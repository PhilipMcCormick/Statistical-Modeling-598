{
  "nbformat": 4,
  "nbformat_minor": 0,
  "metadata": {
    "colab": {
      "name": "Phil_McCormick_Brooke_Johnson_Zuriel_Sanders_Final_Assignment.ipynb",
      "provenance": [],
      "collapsed_sections": []
    },
    "kernelspec": {
      "name": "python3",
      "display_name": "Python 3"
    },
    "language_info": {
      "name": "python"
    }
  },
  "cells": [
    {
      "cell_type": "markdown",
      "source": [
        "# Phil McCormick, Brooke Johnson, Zuriel Sanders\n",
        "MSDS 598 - Spring 2022\n",
        "\n",
        "Final Assignment\n",
        "\n",
        "Everyone worked equally on this assignment, we had no issues. "
      ],
      "metadata": {
        "id": "50w2BYjX3wsv"
      }
    },
    {
      "cell_type": "code",
      "source": [
        "import pandas as pd\n",
        "import numpy as np\n",
        "import matplotlib.pyplot as plt\n",
        "import math\n",
        "import random\n",
        "\n",
        "import seaborn as sns\n",
        "import statsmodels.api as sm\n",
        "from sklearn.model_selection import train_test_split\n",
        "from statsmodels.formula.api import ols\n",
        "from statsmodels.formula.api import ols\n",
        "from sklearn import metrics"
      ],
      "metadata": {
        "id": "mIx1w5EP3U6p",
        "colab": {
          "base_uri": "https://localhost:8080/"
        },
        "outputId": "cd1b2acc-d9e4-46f8-96f1-7f22c75894d4"
      },
      "execution_count": null,
      "outputs": [
        {
          "output_type": "stream",
          "name": "stderr",
          "text": [
            "/usr/local/lib/python3.7/dist-packages/statsmodels/tools/_testing.py:19: FutureWarning: pandas.util.testing is deprecated. Use the functions in the public API at pandas.testing instead.\n",
            "  import pandas.util.testing as tm\n"
          ]
        }
      ]
    },
    {
      "cell_type": "markdown",
      "source": [
        "## Question 1. Do the following to explore the data.\n",
        "### (a) Print the number of missing values for each variable. Are there any variables that you think might have issues from this?"
      ],
      "metadata": {
        "id": "xrMFKAFE3QHN"
      }
    },
    {
      "cell_type": "code",
      "source": [
        "df = pd.read_csv('/content/drive/MyDrive/Data/melb_data.csv')\n",
        "\n",
        "df.isnull().sum()"
      ],
      "metadata": {
        "id": "pBDnJFk55n9B",
        "colab": {
          "base_uri": "https://localhost:8080/",
          "height": 359
        },
        "outputId": "aee0cb1f-af34-42d0-cbb3-a1c392097a2e"
      },
      "execution_count": null,
      "outputs": [
        {
          "output_type": "error",
          "ename": "FileNotFoundError",
          "evalue": "ignored",
          "traceback": [
            "\u001b[0;31m---------------------------------------------------------------------------\u001b[0m",
            "\u001b[0;31mFileNotFoundError\u001b[0m                         Traceback (most recent call last)",
            "\u001b[0;32m<ipython-input-2-2bb35a5d1e1a>\u001b[0m in \u001b[0;36m<module>\u001b[0;34m()\u001b[0m\n\u001b[0;32m----> 1\u001b[0;31m \u001b[0mdf\u001b[0m \u001b[0;34m=\u001b[0m \u001b[0mpd\u001b[0m\u001b[0;34m.\u001b[0m\u001b[0mread_csv\u001b[0m\u001b[0;34m(\u001b[0m\u001b[0;34m'/content/drive/MyDrive/Data/melb_data.csv'\u001b[0m\u001b[0;34m)\u001b[0m\u001b[0;34m\u001b[0m\u001b[0;34m\u001b[0m\u001b[0m\n\u001b[0m\u001b[1;32m      2\u001b[0m \u001b[0;34m\u001b[0m\u001b[0m\n\u001b[1;32m      3\u001b[0m \u001b[0mdf\u001b[0m\u001b[0;34m.\u001b[0m\u001b[0misnull\u001b[0m\u001b[0;34m(\u001b[0m\u001b[0;34m)\u001b[0m\u001b[0;34m.\u001b[0m\u001b[0msum\u001b[0m\u001b[0;34m(\u001b[0m\u001b[0;34m)\u001b[0m\u001b[0;34m\u001b[0m\u001b[0;34m\u001b[0m\u001b[0m\n",
            "\u001b[0;32m/usr/local/lib/python3.7/dist-packages/pandas/util/_decorators.py\u001b[0m in \u001b[0;36mwrapper\u001b[0;34m(*args, **kwargs)\u001b[0m\n\u001b[1;32m    309\u001b[0m                     \u001b[0mstacklevel\u001b[0m\u001b[0;34m=\u001b[0m\u001b[0mstacklevel\u001b[0m\u001b[0;34m,\u001b[0m\u001b[0;34m\u001b[0m\u001b[0;34m\u001b[0m\u001b[0m\n\u001b[1;32m    310\u001b[0m                 )\n\u001b[0;32m--> 311\u001b[0;31m             \u001b[0;32mreturn\u001b[0m \u001b[0mfunc\u001b[0m\u001b[0;34m(\u001b[0m\u001b[0;34m*\u001b[0m\u001b[0margs\u001b[0m\u001b[0;34m,\u001b[0m \u001b[0;34m**\u001b[0m\u001b[0mkwargs\u001b[0m\u001b[0;34m)\u001b[0m\u001b[0;34m\u001b[0m\u001b[0;34m\u001b[0m\u001b[0m\n\u001b[0m\u001b[1;32m    312\u001b[0m \u001b[0;34m\u001b[0m\u001b[0m\n\u001b[1;32m    313\u001b[0m         \u001b[0;32mreturn\u001b[0m \u001b[0mwrapper\u001b[0m\u001b[0;34m\u001b[0m\u001b[0;34m\u001b[0m\u001b[0m\n",
            "\u001b[0;32m/usr/local/lib/python3.7/dist-packages/pandas/io/parsers/readers.py\u001b[0m in \u001b[0;36mread_csv\u001b[0;34m(filepath_or_buffer, sep, delimiter, header, names, index_col, usecols, squeeze, prefix, mangle_dupe_cols, dtype, engine, converters, true_values, false_values, skipinitialspace, skiprows, skipfooter, nrows, na_values, keep_default_na, na_filter, verbose, skip_blank_lines, parse_dates, infer_datetime_format, keep_date_col, date_parser, dayfirst, cache_dates, iterator, chunksize, compression, thousands, decimal, lineterminator, quotechar, quoting, doublequote, escapechar, comment, encoding, encoding_errors, dialect, error_bad_lines, warn_bad_lines, on_bad_lines, delim_whitespace, low_memory, memory_map, float_precision, storage_options)\u001b[0m\n\u001b[1;32m    584\u001b[0m     \u001b[0mkwds\u001b[0m\u001b[0;34m.\u001b[0m\u001b[0mupdate\u001b[0m\u001b[0;34m(\u001b[0m\u001b[0mkwds_defaults\u001b[0m\u001b[0;34m)\u001b[0m\u001b[0;34m\u001b[0m\u001b[0;34m\u001b[0m\u001b[0m\n\u001b[1;32m    585\u001b[0m \u001b[0;34m\u001b[0m\u001b[0m\n\u001b[0;32m--> 586\u001b[0;31m     \u001b[0;32mreturn\u001b[0m \u001b[0m_read\u001b[0m\u001b[0;34m(\u001b[0m\u001b[0mfilepath_or_buffer\u001b[0m\u001b[0;34m,\u001b[0m \u001b[0mkwds\u001b[0m\u001b[0;34m)\u001b[0m\u001b[0;34m\u001b[0m\u001b[0;34m\u001b[0m\u001b[0m\n\u001b[0m\u001b[1;32m    587\u001b[0m \u001b[0;34m\u001b[0m\u001b[0m\n\u001b[1;32m    588\u001b[0m \u001b[0;34m\u001b[0m\u001b[0m\n",
            "\u001b[0;32m/usr/local/lib/python3.7/dist-packages/pandas/io/parsers/readers.py\u001b[0m in \u001b[0;36m_read\u001b[0;34m(filepath_or_buffer, kwds)\u001b[0m\n\u001b[1;32m    480\u001b[0m \u001b[0;34m\u001b[0m\u001b[0m\n\u001b[1;32m    481\u001b[0m     \u001b[0;31m# Create the parser.\u001b[0m\u001b[0;34m\u001b[0m\u001b[0;34m\u001b[0m\u001b[0;34m\u001b[0m\u001b[0m\n\u001b[0;32m--> 482\u001b[0;31m     \u001b[0mparser\u001b[0m \u001b[0;34m=\u001b[0m \u001b[0mTextFileReader\u001b[0m\u001b[0;34m(\u001b[0m\u001b[0mfilepath_or_buffer\u001b[0m\u001b[0;34m,\u001b[0m \u001b[0;34m**\u001b[0m\u001b[0mkwds\u001b[0m\u001b[0;34m)\u001b[0m\u001b[0;34m\u001b[0m\u001b[0;34m\u001b[0m\u001b[0m\n\u001b[0m\u001b[1;32m    483\u001b[0m \u001b[0;34m\u001b[0m\u001b[0m\n\u001b[1;32m    484\u001b[0m     \u001b[0;32mif\u001b[0m \u001b[0mchunksize\u001b[0m \u001b[0;32mor\u001b[0m \u001b[0miterator\u001b[0m\u001b[0;34m:\u001b[0m\u001b[0;34m\u001b[0m\u001b[0;34m\u001b[0m\u001b[0m\n",
            "\u001b[0;32m/usr/local/lib/python3.7/dist-packages/pandas/io/parsers/readers.py\u001b[0m in \u001b[0;36m__init__\u001b[0;34m(self, f, engine, **kwds)\u001b[0m\n\u001b[1;32m    809\u001b[0m             \u001b[0mself\u001b[0m\u001b[0;34m.\u001b[0m\u001b[0moptions\u001b[0m\u001b[0;34m[\u001b[0m\u001b[0;34m\"has_index_names\"\u001b[0m\u001b[0;34m]\u001b[0m \u001b[0;34m=\u001b[0m \u001b[0mkwds\u001b[0m\u001b[0;34m[\u001b[0m\u001b[0;34m\"has_index_names\"\u001b[0m\u001b[0;34m]\u001b[0m\u001b[0;34m\u001b[0m\u001b[0;34m\u001b[0m\u001b[0m\n\u001b[1;32m    810\u001b[0m \u001b[0;34m\u001b[0m\u001b[0m\n\u001b[0;32m--> 811\u001b[0;31m         \u001b[0mself\u001b[0m\u001b[0;34m.\u001b[0m\u001b[0m_engine\u001b[0m \u001b[0;34m=\u001b[0m \u001b[0mself\u001b[0m\u001b[0;34m.\u001b[0m\u001b[0m_make_engine\u001b[0m\u001b[0;34m(\u001b[0m\u001b[0mself\u001b[0m\u001b[0;34m.\u001b[0m\u001b[0mengine\u001b[0m\u001b[0;34m)\u001b[0m\u001b[0;34m\u001b[0m\u001b[0;34m\u001b[0m\u001b[0m\n\u001b[0m\u001b[1;32m    812\u001b[0m \u001b[0;34m\u001b[0m\u001b[0m\n\u001b[1;32m    813\u001b[0m     \u001b[0;32mdef\u001b[0m \u001b[0mclose\u001b[0m\u001b[0;34m(\u001b[0m\u001b[0mself\u001b[0m\u001b[0;34m)\u001b[0m\u001b[0;34m:\u001b[0m\u001b[0;34m\u001b[0m\u001b[0;34m\u001b[0m\u001b[0m\n",
            "\u001b[0;32m/usr/local/lib/python3.7/dist-packages/pandas/io/parsers/readers.py\u001b[0m in \u001b[0;36m_make_engine\u001b[0;34m(self, engine)\u001b[0m\n\u001b[1;32m   1038\u001b[0m             )\n\u001b[1;32m   1039\u001b[0m         \u001b[0;31m# error: Too many arguments for \"ParserBase\"\u001b[0m\u001b[0;34m\u001b[0m\u001b[0;34m\u001b[0m\u001b[0;34m\u001b[0m\u001b[0m\n\u001b[0;32m-> 1040\u001b[0;31m         \u001b[0;32mreturn\u001b[0m \u001b[0mmapping\u001b[0m\u001b[0;34m[\u001b[0m\u001b[0mengine\u001b[0m\u001b[0;34m]\u001b[0m\u001b[0;34m(\u001b[0m\u001b[0mself\u001b[0m\u001b[0;34m.\u001b[0m\u001b[0mf\u001b[0m\u001b[0;34m,\u001b[0m \u001b[0;34m**\u001b[0m\u001b[0mself\u001b[0m\u001b[0;34m.\u001b[0m\u001b[0moptions\u001b[0m\u001b[0;34m)\u001b[0m  \u001b[0;31m# type: ignore[call-arg]\u001b[0m\u001b[0;34m\u001b[0m\u001b[0;34m\u001b[0m\u001b[0m\n\u001b[0m\u001b[1;32m   1041\u001b[0m \u001b[0;34m\u001b[0m\u001b[0m\n\u001b[1;32m   1042\u001b[0m     \u001b[0;32mdef\u001b[0m \u001b[0m_failover_to_python\u001b[0m\u001b[0;34m(\u001b[0m\u001b[0mself\u001b[0m\u001b[0;34m)\u001b[0m\u001b[0;34m:\u001b[0m\u001b[0;34m\u001b[0m\u001b[0;34m\u001b[0m\u001b[0m\n",
            "\u001b[0;32m/usr/local/lib/python3.7/dist-packages/pandas/io/parsers/c_parser_wrapper.py\u001b[0m in \u001b[0;36m__init__\u001b[0;34m(self, src, **kwds)\u001b[0m\n\u001b[1;32m     49\u001b[0m \u001b[0;34m\u001b[0m\u001b[0m\n\u001b[1;32m     50\u001b[0m         \u001b[0;31m# open handles\u001b[0m\u001b[0;34m\u001b[0m\u001b[0;34m\u001b[0m\u001b[0;34m\u001b[0m\u001b[0m\n\u001b[0;32m---> 51\u001b[0;31m         \u001b[0mself\u001b[0m\u001b[0;34m.\u001b[0m\u001b[0m_open_handles\u001b[0m\u001b[0;34m(\u001b[0m\u001b[0msrc\u001b[0m\u001b[0;34m,\u001b[0m \u001b[0mkwds\u001b[0m\u001b[0;34m)\u001b[0m\u001b[0;34m\u001b[0m\u001b[0;34m\u001b[0m\u001b[0m\n\u001b[0m\u001b[1;32m     52\u001b[0m         \u001b[0;32massert\u001b[0m \u001b[0mself\u001b[0m\u001b[0;34m.\u001b[0m\u001b[0mhandles\u001b[0m \u001b[0;32mis\u001b[0m \u001b[0;32mnot\u001b[0m \u001b[0;32mNone\u001b[0m\u001b[0;34m\u001b[0m\u001b[0;34m\u001b[0m\u001b[0m\n\u001b[1;32m     53\u001b[0m \u001b[0;34m\u001b[0m\u001b[0m\n",
            "\u001b[0;32m/usr/local/lib/python3.7/dist-packages/pandas/io/parsers/base_parser.py\u001b[0m in \u001b[0;36m_open_handles\u001b[0;34m(self, src, kwds)\u001b[0m\n\u001b[1;32m    227\u001b[0m             \u001b[0mmemory_map\u001b[0m\u001b[0;34m=\u001b[0m\u001b[0mkwds\u001b[0m\u001b[0;34m.\u001b[0m\u001b[0mget\u001b[0m\u001b[0;34m(\u001b[0m\u001b[0;34m\"memory_map\"\u001b[0m\u001b[0;34m,\u001b[0m \u001b[0;32mFalse\u001b[0m\u001b[0;34m)\u001b[0m\u001b[0;34m,\u001b[0m\u001b[0;34m\u001b[0m\u001b[0;34m\u001b[0m\u001b[0m\n\u001b[1;32m    228\u001b[0m             \u001b[0mstorage_options\u001b[0m\u001b[0;34m=\u001b[0m\u001b[0mkwds\u001b[0m\u001b[0;34m.\u001b[0m\u001b[0mget\u001b[0m\u001b[0;34m(\u001b[0m\u001b[0;34m\"storage_options\"\u001b[0m\u001b[0;34m,\u001b[0m \u001b[0;32mNone\u001b[0m\u001b[0;34m)\u001b[0m\u001b[0;34m,\u001b[0m\u001b[0;34m\u001b[0m\u001b[0;34m\u001b[0m\u001b[0m\n\u001b[0;32m--> 229\u001b[0;31m             \u001b[0merrors\u001b[0m\u001b[0;34m=\u001b[0m\u001b[0mkwds\u001b[0m\u001b[0;34m.\u001b[0m\u001b[0mget\u001b[0m\u001b[0;34m(\u001b[0m\u001b[0;34m\"encoding_errors\"\u001b[0m\u001b[0;34m,\u001b[0m \u001b[0;34m\"strict\"\u001b[0m\u001b[0;34m)\u001b[0m\u001b[0;34m,\u001b[0m\u001b[0;34m\u001b[0m\u001b[0;34m\u001b[0m\u001b[0m\n\u001b[0m\u001b[1;32m    230\u001b[0m         )\n\u001b[1;32m    231\u001b[0m \u001b[0;34m\u001b[0m\u001b[0m\n",
            "\u001b[0;32m/usr/local/lib/python3.7/dist-packages/pandas/io/common.py\u001b[0m in \u001b[0;36mget_handle\u001b[0;34m(path_or_buf, mode, encoding, compression, memory_map, is_text, errors, storage_options)\u001b[0m\n\u001b[1;32m    705\u001b[0m                 \u001b[0mencoding\u001b[0m\u001b[0;34m=\u001b[0m\u001b[0mioargs\u001b[0m\u001b[0;34m.\u001b[0m\u001b[0mencoding\u001b[0m\u001b[0;34m,\u001b[0m\u001b[0;34m\u001b[0m\u001b[0;34m\u001b[0m\u001b[0m\n\u001b[1;32m    706\u001b[0m                 \u001b[0merrors\u001b[0m\u001b[0;34m=\u001b[0m\u001b[0merrors\u001b[0m\u001b[0;34m,\u001b[0m\u001b[0;34m\u001b[0m\u001b[0;34m\u001b[0m\u001b[0m\n\u001b[0;32m--> 707\u001b[0;31m                 \u001b[0mnewline\u001b[0m\u001b[0;34m=\u001b[0m\u001b[0;34m\"\"\u001b[0m\u001b[0;34m,\u001b[0m\u001b[0;34m\u001b[0m\u001b[0;34m\u001b[0m\u001b[0m\n\u001b[0m\u001b[1;32m    708\u001b[0m             )\n\u001b[1;32m    709\u001b[0m         \u001b[0;32melse\u001b[0m\u001b[0;34m:\u001b[0m\u001b[0;34m\u001b[0m\u001b[0;34m\u001b[0m\u001b[0m\n",
            "\u001b[0;31mFileNotFoundError\u001b[0m: [Errno 2] No such file or directory: '/content/drive/MyDrive/Data/melb_data.csv'"
          ]
        }
      ]
    },
    {
      "cell_type": "markdown",
      "source": [
        "#### Answer:\n",
        "Building Area, Year Built, and Council Area have a lot of missing values. The Year Built, and Building Area missing is an issue for the Price variable since a lot of a houses price is derived from the year a house was built, it's size and area."
      ],
      "metadata": {
        "id": "a0WVtpuilYvM"
      }
    },
    {
      "cell_type": "markdown",
      "source": [
        "### (b) Create a bar chart that shows the median housing price for each Regionname. Do you think that Regionname will affect housing price?"
      ],
      "metadata": {
        "id": "56hyE-5TmInF"
      }
    },
    {
      "cell_type": "code",
      "source": [
        "order = ['Price']\n",
        "df.groupby('Regionname')[order].median().plot.bar(stacked=True)"
      ],
      "metadata": {
        "colab": {
          "base_uri": "https://localhost:8080/",
          "height": 435
        },
        "id": "aAezNlETmWEf",
        "outputId": "b285e4e7-35df-4820-d979-ba3a3bf4de03"
      },
      "execution_count": null,
      "outputs": [
        {
          "output_type": "execute_result",
          "data": {
            "text/plain": [
              "<matplotlib.axes._subplots.AxesSubplot at 0x7f32f9884a90>"
            ]
          },
          "metadata": {},
          "execution_count": 5
        },
        {
          "output_type": "display_data",
          "data": {
            "image/png": "[encoded data removed]",
            "text/plain": [
              "<Figure size 432x288 with 1 Axes>"
            ]
          },
          "metadata": {
            "needs_background": "light"
          }
        }
      ]
    },
    {
      "cell_type": "markdown",
      "source": [
        "#### Answer:\n",
        "It seems that houses located in the Southern Metropolitan have a noticeably higher average price than the rest of the regions. RegionName does seem to have an affect on housing price. \n",
        "\n",
        "While the naming convention itself likely isn't directly affecting home prices, it seems that names associated with specific regions having higher median prices than others, suggesting here is a non-uniform distribution of home prices between the regions."
      ],
      "metadata": {
        "id": "goaDkXsmofMY"
      }
    },
    {
      "cell_type": "markdown",
      "source": [
        "### (c) Use seaborn’s lmplot function to create a scatter plot with Lattitude on the x-axis and Longtitude on the y-axis colored by Distance (Hint: set legend andfit reg to False). What is this?"
      ],
      "metadata": {
        "id": "wT1SrXxmpG7j"
      }
    },
    {
      "cell_type": "code",
      "source": [
        "df.head()"
      ],
      "metadata": {
        "colab": {
          "base_uri": "https://localhost:8080/",
          "height": 391
        },
        "id": "TvApe0AEp8GM",
        "outputId": "8558c1cf-b904-463e-de58-854c916f246b"
      },
      "execution_count": null,
      "outputs": [
        {
          "output_type": "execute_result",
          "data": {
            "text/html": [
              "\n",
              "  <div id=\"df-decf6ba2-0c63-4815-b702-87d8b0fc3479\">\n",
              "    <div class=\"colab-df-container\">\n",
              "      <div>\n",
              "<style scoped>\n",
              "    .dataframe tbody tr th:only-of-type {\n",
              "        vertical-align: middle;\n",
              "    }\n",
              "\n",
              "    .dataframe tbody tr th {\n",
              "        vertical-align: top;\n",
              "    }\n",
              "\n",
              "    .dataframe thead th {\n",
              "        text-align: right;\n",
              "    }\n",
              "</style>\n",
              "<table border=\"1\" class=\"dataframe\">\n",
              "  <thead>\n",
              "    <tr style=\"text-align: right;\">\n",
              "      <th></th>\n",
              "      <th>Suburb</th>\n",
              "      <th>Address</th>\n",
              "      <th>Rooms</th>\n",
              "      <th>Type</th>\n",
              "      <th>Price</th>\n",
              "      <th>Method</th>\n",
              "      <th>SellerG</th>\n",
              "      <th>Date</th>\n",
              "      <th>Distance</th>\n",
              "      <th>Postcode</th>\n",
              "      <th>Bedroom2</th>\n",
              "      <th>Bathroom</th>\n",
              "      <th>Car</th>\n",
              "      <th>Landsize</th>\n",
              "      <th>BuildingArea</th>\n",
              "      <th>YearBuilt</th>\n",
              "      <th>CouncilArea</th>\n",
              "      <th>Lattitude</th>\n",
              "      <th>Longtitude</th>\n",
              "      <th>Regionname</th>\n",
              "      <th>Propertycount</th>\n",
              "    </tr>\n",
              "  </thead>\n",
              "  <tbody>\n",
              "    <tr>\n",
              "      <th>0</th>\n",
              "      <td>Abbotsford</td>\n",
              "      <td>85 Turner St</td>\n",
              "      <td>2</td>\n",
              "      <td>h</td>\n",
              "      <td>1480000.0</td>\n",
              "      <td>S</td>\n",
              "      <td>Biggin</td>\n",
              "      <td>3/12/2016</td>\n",
              "      <td>2.5</td>\n",
              "      <td>3067.0</td>\n",
              "      <td>2.0</td>\n",
              "      <td>1.0</td>\n",
              "      <td>1.0</td>\n",
              "      <td>202.0</td>\n",
              "      <td>NaN</td>\n",
              "      <td>NaN</td>\n",
              "      <td>Yarra</td>\n",
              "      <td>-37.7996</td>\n",
              "      <td>144.9984</td>\n",
              "      <td>Northern Metropolitan</td>\n",
              "      <td>4019.0</td>\n",
              "    </tr>\n",
              "    <tr>\n",
              "      <th>1</th>\n",
              "      <td>Abbotsford</td>\n",
              "      <td>25 Bloomburg St</td>\n",
              "      <td>2</td>\n",
              "      <td>h</td>\n",
              "      <td>1035000.0</td>\n",
              "      <td>S</td>\n",
              "      <td>Biggin</td>\n",
              "      <td>4/02/2016</td>\n",
              "      <td>2.5</td>\n",
              "      <td>3067.0</td>\n",
              "      <td>2.0</td>\n",
              "      <td>1.0</td>\n",
              "      <td>0.0</td>\n",
              "      <td>156.0</td>\n",
              "      <td>79.0</td>\n",
              "      <td>1900.0</td>\n",
              "      <td>Yarra</td>\n",
              "      <td>-37.8079</td>\n",
              "      <td>144.9934</td>\n",
              "      <td>Northern Metropolitan</td>\n",
              "      <td>4019.0</td>\n",
              "    </tr>\n",
              "    <tr>\n",
              "      <th>2</th>\n",
              "      <td>Abbotsford</td>\n",
              "      <td>5 Charles St</td>\n",
              "      <td>3</td>\n",
              "      <td>h</td>\n",
              "      <td>1465000.0</td>\n",
              "      <td>SP</td>\n",
              "      <td>Biggin</td>\n",
              "      <td>4/03/2017</td>\n",
              "      <td>2.5</td>\n",
              "      <td>3067.0</td>\n",
              "      <td>3.0</td>\n",
              "      <td>2.0</td>\n",
              "      <td>0.0</td>\n",
              "      <td>134.0</td>\n",
              "      <td>150.0</td>\n",
              "      <td>1900.0</td>\n",
              "      <td>Yarra</td>\n",
              "      <td>-37.8093</td>\n",
              "      <td>144.9944</td>\n",
              "      <td>Northern Metropolitan</td>\n",
              "      <td>4019.0</td>\n",
              "    </tr>\n",
              "    <tr>\n",
              "      <th>3</th>\n",
              "      <td>Abbotsford</td>\n",
              "      <td>40 Federation La</td>\n",
              "      <td>3</td>\n",
              "      <td>h</td>\n",
              "      <td>850000.0</td>\n",
              "      <td>PI</td>\n",
              "      <td>Biggin</td>\n",
              "      <td>4/03/2017</td>\n",
              "      <td>2.5</td>\n",
              "      <td>3067.0</td>\n",
              "      <td>3.0</td>\n",
              "      <td>2.0</td>\n",
              "      <td>1.0</td>\n",
              "      <td>94.0</td>\n",
              "      <td>NaN</td>\n",
              "      <td>NaN</td>\n",
              "      <td>Yarra</td>\n",
              "      <td>-37.7969</td>\n",
              "      <td>144.9969</td>\n",
              "      <td>Northern Metropolitan</td>\n",
              "      <td>4019.0</td>\n",
              "    </tr>\n",
              "    <tr>\n",
              "      <th>4</th>\n",
              "      <td>Abbotsford</td>\n",
              "      <td>55a Park St</td>\n",
              "      <td>4</td>\n",
              "      <td>h</td>\n",
              "      <td>1600000.0</td>\n",
              "      <td>VB</td>\n",
              "      <td>Nelson</td>\n",
              "      <td>4/06/2016</td>\n",
              "      <td>2.5</td>\n",
              "      <td>3067.0</td>\n",
              "      <td>3.0</td>\n",
              "      <td>1.0</td>\n",
              "      <td>2.0</td>\n",
              "      <td>120.0</td>\n",
              "      <td>142.0</td>\n",
              "      <td>2014.0</td>\n",
              "      <td>Yarra</td>\n",
              "      <td>-37.8072</td>\n",
              "      <td>144.9941</td>\n",
              "      <td>Northern Metropolitan</td>\n",
              "      <td>4019.0</td>\n",
              "    </tr>\n",
              "  </tbody>\n",
              "</table>\n",
              "</div>\n",
              "      <button class=\"colab-df-convert\" onclick=\"convertToInteractive('df-decf6ba2-0c63-4815-b702-87d8b0fc3479')\"\n",
              "              title=\"Convert this dataframe to an interactive table.\"\n",
              "              style=\"display:none;\">\n",
              "        \n",
              "  <svg xmlns=\"http://www.w3.org/2000/svg\" height=\"24px\"viewBox=\"0 0 24 24\"\n",
              "       width=\"24px\">\n",
              "    <path d=\"M0 0h24v24H0V0z\" fill=\"none\"/>\n",
              "    <path d=\"M18.56 5.44l.94 2.06.94-2.06 2.06-.94-2.06-.94-.94-2.06-.94 2.06-2.06.94zm-11 1L8.5 8.5l.94-2.06 2.06-.94-2.06-.94L8.5 2.5l-.94 2.06-2.06.94zm10 10l.94 2.06.94-2.06 2.06-.94-2.06-.94-.94-2.06-.94 2.06-2.06.94z\"/><path d=\"M17.41 7.96l-1.37-1.37c-.4-.4-.92-.59-1.43-.59-.52 0-1.04.2-1.43.59L10.3 9.45l-7.72 7.72c-.78.78-.78 2.05 0 2.83L4 21.41c.39.39.9.59 1.41.59.51 0 1.02-.2 1.41-.59l7.78-7.78 2.81-2.81c.8-.78.8-2.07 0-2.86zM5.41 20L4 18.59l7.72-7.72 1.47 1.35L5.41 20z\"/>\n",
              "  </svg>\n",
              "      </button>\n",
              "      \n",
              "  <style>\n",
              "    .colab-df-container {\n",
              "      display:flex;\n",
              "      flex-wrap:wrap;\n",
              "      gap: 12px;\n",
              "    }\n",
              "\n",
              "    .colab-df-convert {\n",
              "      background-color: #E8F0FE;\n",
              "      border: none;\n",
              "      border-radius: 50%;\n",
              "      cursor: pointer;\n",
              "      display: none;\n",
              "      fill: #1967D2;\n",
              "      height: 32px;\n",
              "      padding: 0 0 0 0;\n",
              "      width: 32px;\n",
              "    }\n",
              "\n",
              "    .colab-df-convert:hover {\n",
              "      background-color: #E2EBFA;\n",
              "      box-shadow: 0px 1px 2px rgba(60, 64, 67, 0.3), 0px 1px 3px 1px rgba(60, 64, 67, 0.15);\n",
              "      fill: #174EA6;\n",
              "    }\n",
              "\n",
              "    [theme=dark] .colab-df-convert {\n",
              "      background-color: #3B4455;\n",
              "      fill: #D2E3FC;\n",
              "    }\n",
              "\n",
              "    [theme=dark] .colab-df-convert:hover {\n",
              "      background-color: #434B5C;\n",
              "      box-shadow: 0px 1px 3px 1px rgba(0, 0, 0, 0.15);\n",
              "      filter: drop-shadow(0px 1px 2px rgba(0, 0, 0, 0.3));\n",
              "      fill: #FFFFFF;\n",
              "    }\n",
              "  </style>\n",
              "\n",
              "      <script>\n",
              "        const buttonEl =\n",
              "          document.querySelector('#df-decf6ba2-0c63-4815-b702-87d8b0fc3479 button.colab-df-convert');\n",
              "        buttonEl.style.display =\n",
              "          google.colab.kernel.accessAllowed ? 'block' : 'none';\n",
              "\n",
              "        async function convertToInteractive(key) {\n",
              "          const element = document.querySelector('#df-decf6ba2-0c63-4815-b702-87d8b0fc3479');\n",
              "          const dataTable =\n",
              "            await google.colab.kernel.invokeFunction('convertToInteractive',\n",
              "                                                     [key], {});\n",
              "          if (!dataTable) return;\n",
              "\n",
              "          const docLinkHtml = 'Like what you see? Visit the ' +\n",
              "            '<a target=\"_blank\" href=https://colab.research.google.com/notebooks/data_table.ipynb>data table notebook</a>'\n",
              "            + ' to learn more about interactive tables.';\n",
              "          element.innerHTML = '';\n",
              "          dataTable['output_type'] = 'display_data';\n",
              "          await google.colab.output.renderOutput(dataTable, element);\n",
              "          const docLink = document.createElement('div');\n",
              "          docLink.innerHTML = docLinkHtml;\n",
              "          element.appendChild(docLink);\n",
              "        }\n",
              "      </script>\n",
              "    </div>\n",
              "  </div>\n",
              "  "
            ],
            "text/plain": [
              "       Suburb           Address  ...             Regionname Propertycount\n",
              "0  Abbotsford      85 Turner St  ...  Northern Metropolitan        4019.0\n",
              "1  Abbotsford   25 Bloomburg St  ...  Northern Metropolitan        4019.0\n",
              "2  Abbotsford      5 Charles St  ...  Northern Metropolitan        4019.0\n",
              "3  Abbotsford  40 Federation La  ...  Northern Metropolitan        4019.0\n",
              "4  Abbotsford       55a Park St  ...  Northern Metropolitan        4019.0\n",
              "\n",
              "[5 rows x 21 columns]"
            ]
          },
          "metadata": {},
          "execution_count": 6
        }
      ]
    },
    {
      "cell_type": "code",
      "source": [
        "sns.lmplot( x=\"Lattitude\", y=\"Longtitude\", data=df,legend=False, fit_reg=False, hue='Distance')\n",
        "plt.show()"
      ],
      "metadata": {
        "colab": {
          "base_uri": "https://localhost:8080/",
          "height": 369
        },
        "id": "lJjCC6-gpP3t",
        "outputId": "aaff4edf-2d64-4c51-854f-b73ad7993ef7"
      },
      "execution_count": null,
      "outputs": [
        {
          "output_type": "display_data",
          "data": {
            "image/png": "[encoded data removed]",
            "text/plain": [
              "<Figure size 360x360 with 1 Axes>"
            ]
          },
          "metadata": {
            "needs_background": "light"
          }
        }
      ]
    },
    {
      "cell_type": "markdown",
      "source": [
        "#### Answer:\n",
        "This is a map showing the geo-spacial distribution of houses in the area, where plotted observations change color based on their distance to the center (approx. (-37.7, 144.9))."
      ],
      "metadata": {
        "id": "iWjY6IbdxCg-"
      }
    },
    {
      "cell_type": "markdown",
      "source": [
        "## Question 2. Assume that the mean of Price in this dataset is the population mean for housing prices in Melbourne. Choose a particular Region, take a random sample of 25 houses from Regionname and conduct a z-test with level of significance α = 0.5 to decide if housing prices in this Region differ from the population mean significantly. Use the standard error of the sample as the variance for the distribution of sample means. \n",
        "\n",
        "### (a) What are the Null and Alternative Hypothesis?"
      ],
      "metadata": {
        "id": "oFWrstDAtZap"
      }
    },
    {
      "cell_type": "markdown",
      "source": [
        "# $𝐻_0:\\beta_1 = 1075684$\n",
        "# $𝐻_1:\\beta_1 \\not= 1075684$\n"
      ],
      "metadata": {
        "id": "RdEmQBl4ekX8"
      }
    },
    {
      "cell_type": "code",
      "source": [
        "mean_price = df['Price'].mean()\n",
        "mean_price"
      ],
      "metadata": {
        "colab": {
          "base_uri": "https://localhost:8080/"
        },
        "id": "2oyQla30tnLk",
        "outputId": "5ef52086-a153-4737-809a-481e61769710"
      },
      "execution_count": null,
      "outputs": [
        {
          "output_type": "execute_result",
          "data": {
            "text/plain": [
              "1075684.079455081"
            ]
          },
          "metadata": {},
          "execution_count": 12
        }
      ]
    },
    {
      "cell_type": "markdown",
      "source": [
        "### (b) Use the p-value to decide whether to reject or fail to reject."
      ],
      "metadata": {
        "id": "AlNm4EKLq9gW"
      }
    },
    {
      "cell_type": "code",
      "source": [
        "import scipy.stats\n",
        "\n",
        "df_sample = df[df['Regionname'] == 'Northern Metropolitan'].sample(frac=0.005)\n",
        "\n",
        "sample_mean = df_sample['Price'].mean()\n",
        "sample_mean"
      ],
      "metadata": {
        "colab": {
          "base_uri": "https://localhost:8080/"
        },
        "id": "DeyNf7hurE6m",
        "outputId": "c2691e4b-d837-4ec1-e295-46d92f3b91d7"
      },
      "execution_count": null,
      "outputs": [
        {
          "output_type": "execute_result",
          "data": {
            "text/plain": [
              "886210.5263157894"
            ]
          },
          "metadata": {},
          "execution_count": 15
        }
      ]
    },
    {
      "cell_type": "code",
      "source": [
        "std_error = scipy.stats.sem(df_sample['Price'], nan_policy='omit')\n",
        "std_error"
      ],
      "metadata": {
        "colab": {
          "base_uri": "https://localhost:8080/"
        },
        "id": "FArxxaLXsxvW",
        "outputId": "c2ef8cc2-d46d-43ca-f52a-31bf8714bacd"
      },
      "execution_count": null,
      "outputs": [
        {
          "output_type": "execute_result",
          "data": {
            "text/plain": [
              "84872.50772154475"
            ]
          },
          "metadata": {},
          "execution_count": 17
        }
      ]
    },
    {
      "cell_type": "code",
      "source": [
        "z = (sample_mean - mean_price) / (std_error)\n",
        "z\n",
        "\n",
        "# df_mean is not defined, should it be mean_price? [BROOKE]"
      ],
      "metadata": {
        "colab": {
          "base_uri": "https://localhost:8080/"
        },
        "id": "wgaVxwuVs2Go",
        "outputId": "8c28aed0-5f0e-4a0b-b781-ff245db9827c"
      },
      "execution_count": null,
      "outputs": [
        {
          "output_type": "execute_result",
          "data": {
            "text/plain": [
              "-2.2324490960126764"
            ]
          },
          "metadata": {},
          "execution_count": 18
        }
      ]
    },
    {
      "cell_type": "code",
      "source": [
        "\n",
        "def p_left_of_z(z):\n",
        "    return scipy.stats.norm(0, 1).cdf(z)\n",
        "\n",
        "ndst = np.random.normal(0, 1, 100000)\n",
        "plt.hist(ndst, bins=30, density=True)\n",
        "\n",
        "\n",
        "plt.axvline(x=-z, color='red')\n",
        "plt.axvline(x=z, color='red')\n",
        "plt.show()"
      ],
      "metadata": {
        "colab": {
          "base_uri": "https://localhost:8080/",
          "height": 265
        },
        "id": "VGO3cDljtAd-",
        "outputId": "199dada7-3dda-464f-9261-bcb632f45cf0"
      },
      "execution_count": null,
      "outputs": [
        {
          "output_type": "display_data",
          "data": {
            "image/png": "[encoded data removed]",
            "text/plain": [
              "<Figure size 432x288 with 1 Axes>"
            ]
          },
          "metadata": {
            "needs_background": "light"
          }
        }
      ]
    },
    {
      "cell_type": "markdown",
      "source": [
        "Based on the chart the distribution is symmetric, so I'll find twice the area left of the left-most red line."
      ],
      "metadata": {
        "id": "mQkENcultQ5H"
      }
    },
    {
      "cell_type": "code",
      "source": [
        "p = 2*p_left_of_z(-z)\n",
        "p"
      ],
      "metadata": {
        "colab": {
          "base_uri": "https://localhost:8080/"
        },
        "id": "tF_zOBwBtgqI",
        "outputId": "afa6a853-51b4-44cf-ad03-89c82e00e781"
      },
      "execution_count": null,
      "outputs": [
        {
          "output_type": "execute_result",
          "data": {
            "text/plain": [
              "1.9744147039735642"
            ]
          },
          "metadata": {},
          "execution_count": 20
        }
      ]
    },
    {
      "cell_type": "markdown",
      "source": [
        "#### Answer:\n",
        "I calculated a p-value of 1.97, since 1.97 > 0.5 we'll fail to reject the null hypothesis. And will say that mean housing prices in Melborne are a good reflection of housing prices in the Northern Metropolitan area. "
      ],
      "metadata": {
        "id": "0Ky0cU1Jtxt2"
      }
    },
    {
      "cell_type": "markdown",
      "source": [
        "## Question 3. Find two variables that are linearly correlated and provide the three pieces of evidence.\n",
        "\n",
        "### (a) Scattor plot of the two variables"
      ],
      "metadata": {
        "id": "Fq5OJQaxvxK0"
      }
    },
    {
      "cell_type": "code",
      "source": [
        "sns.lmplot( x=\"Bedroom2\", y=\"Rooms\", data=df,legend=False)\n",
        "plt.xlim(0, 10)\n",
        "plt.show()"
      ],
      "metadata": {
        "colab": {
          "base_uri": "https://localhost:8080/",
          "height": 369
        },
        "id": "Cx-Lnje3v_5v",
        "outputId": "8cad6736-4144-4787-e187-3cd6dde88e09"
      },
      "execution_count": null,
      "outputs": [
        {
          "output_type": "display_data",
          "data": {
            "image/png": "[encoded data removed]",
            "text/plain": [
              "<Figure size 360x360 with 1 Axes>"
            ]
          },
          "metadata": {
            "needs_background": "light"
          }
        }
      ]
    },
    {
      "cell_type": "markdown",
      "source": [
        "### (b) Pearson Correlation Coefficient between the two variables"
      ],
      "metadata": {
        "id": "f-EStzeW1ReH"
      }
    },
    {
      "cell_type": "code",
      "source": [
        "df.corr()"
      ],
      "metadata": {
        "colab": {
          "base_uri": "https://localhost:8080/",
          "height": 457
        },
        "id": "dxzYDgke0D30",
        "outputId": "b5a47106-0e03-461b-c105-8492636126fb"
      },
      "execution_count": null,
      "outputs": [
        {
          "output_type": "execute_result",
          "data": {
            "text/html": [
              "\n",
              "  <div id=\"df-c703c736-c468-428a-b26e-84bc5818e02b\">\n",
              "    <div class=\"colab-df-container\">\n",
              "      <div>\n",
              "<style scoped>\n",
              "    .dataframe tbody tr th:only-of-type {\n",
              "        vertical-align: middle;\n",
              "    }\n",
              "\n",
              "    .dataframe tbody tr th {\n",
              "        vertical-align: top;\n",
              "    }\n",
              "\n",
              "    .dataframe thead th {\n",
              "        text-align: right;\n",
              "    }\n",
              "</style>\n",
              "<table border=\"1\" class=\"dataframe\">\n",
              "  <thead>\n",
              "    <tr style=\"text-align: right;\">\n",
              "      <th></th>\n",
              "      <th>Rooms</th>\n",
              "      <th>Price</th>\n",
              "      <th>Distance</th>\n",
              "      <th>Postcode</th>\n",
              "      <th>Bedroom2</th>\n",
              "      <th>Bathroom</th>\n",
              "      <th>Car</th>\n",
              "      <th>Landsize</th>\n",
              "      <th>BuildingArea</th>\n",
              "      <th>YearBuilt</th>\n",
              "      <th>Lattitude</th>\n",
              "      <th>Longtitude</th>\n",
              "      <th>Propertycount</th>\n",
              "    </tr>\n",
              "  </thead>\n",
              "  <tbody>\n",
              "    <tr>\n",
              "      <th>Rooms</th>\n",
              "      <td>1.000000</td>\n",
              "      <td>0.496634</td>\n",
              "      <td>0.294203</td>\n",
              "      <td>0.055303</td>\n",
              "      <td>0.944190</td>\n",
              "      <td>0.592934</td>\n",
              "      <td>0.408483</td>\n",
              "      <td>0.025678</td>\n",
              "      <td>0.124127</td>\n",
              "      <td>-0.065413</td>\n",
              "      <td>0.015948</td>\n",
              "      <td>0.100771</td>\n",
              "      <td>-0.081530</td>\n",
              "    </tr>\n",
              "    <tr>\n",
              "      <th>Price</th>\n",
              "      <td>0.496634</td>\n",
              "      <td>1.000000</td>\n",
              "      <td>-0.162522</td>\n",
              "      <td>0.107867</td>\n",
              "      <td>0.475951</td>\n",
              "      <td>0.467038</td>\n",
              "      <td>0.238979</td>\n",
              "      <td>0.037507</td>\n",
              "      <td>0.090981</td>\n",
              "      <td>-0.323617</td>\n",
              "      <td>-0.212934</td>\n",
              "      <td>0.203656</td>\n",
              "      <td>-0.042153</td>\n",
              "    </tr>\n",
              "    <tr>\n",
              "      <th>Distance</th>\n",
              "      <td>0.294203</td>\n",
              "      <td>-0.162522</td>\n",
              "      <td>1.000000</td>\n",
              "      <td>0.431514</td>\n",
              "      <td>0.295927</td>\n",
              "      <td>0.127155</td>\n",
              "      <td>0.262994</td>\n",
              "      <td>0.025004</td>\n",
              "      <td>0.099481</td>\n",
              "      <td>0.246379</td>\n",
              "      <td>-0.130723</td>\n",
              "      <td>0.239425</td>\n",
              "      <td>-0.054910</td>\n",
              "    </tr>\n",
              "    <tr>\n",
              "      <th>Postcode</th>\n",
              "      <td>0.055303</td>\n",
              "      <td>0.107867</td>\n",
              "      <td>0.431514</td>\n",
              "      <td>1.000000</td>\n",
              "      <td>0.060584</td>\n",
              "      <td>0.113664</td>\n",
              "      <td>0.050289</td>\n",
              "      <td>0.024558</td>\n",
              "      <td>0.055475</td>\n",
              "      <td>0.032863</td>\n",
              "      <td>-0.406104</td>\n",
              "      <td>0.445357</td>\n",
              "      <td>0.062304</td>\n",
              "    </tr>\n",
              "    <tr>\n",
              "      <th>Bedroom2</th>\n",
              "      <td>0.944190</td>\n",
              "      <td>0.475951</td>\n",
              "      <td>0.295927</td>\n",
              "      <td>0.060584</td>\n",
              "      <td>1.000000</td>\n",
              "      <td>0.584685</td>\n",
              "      <td>0.405325</td>\n",
              "      <td>0.025646</td>\n",
              "      <td>0.122319</td>\n",
              "      <td>-0.053319</td>\n",
              "      <td>0.015925</td>\n",
              "      <td>0.102238</td>\n",
              "      <td>-0.081350</td>\n",
              "    </tr>\n",
              "    <tr>\n",
              "      <th>Bathroom</th>\n",
              "      <td>0.592934</td>\n",
              "      <td>0.467038</td>\n",
              "      <td>0.127155</td>\n",
              "      <td>0.113664</td>\n",
              "      <td>0.584685</td>\n",
              "      <td>1.000000</td>\n",
              "      <td>0.322246</td>\n",
              "      <td>0.037130</td>\n",
              "      <td>0.111933</td>\n",
              "      <td>0.152702</td>\n",
              "      <td>-0.070594</td>\n",
              "      <td>0.118971</td>\n",
              "      <td>-0.052201</td>\n",
              "    </tr>\n",
              "    <tr>\n",
              "      <th>Car</th>\n",
              "      <td>0.408483</td>\n",
              "      <td>0.238979</td>\n",
              "      <td>0.262994</td>\n",
              "      <td>0.050289</td>\n",
              "      <td>0.405325</td>\n",
              "      <td>0.322246</td>\n",
              "      <td>1.000000</td>\n",
              "      <td>0.026770</td>\n",
              "      <td>0.096101</td>\n",
              "      <td>0.104515</td>\n",
              "      <td>-0.001963</td>\n",
              "      <td>0.063395</td>\n",
              "      <td>-0.024295</td>\n",
              "    </tr>\n",
              "    <tr>\n",
              "      <th>Landsize</th>\n",
              "      <td>0.025678</td>\n",
              "      <td>0.037507</td>\n",
              "      <td>0.025004</td>\n",
              "      <td>0.024558</td>\n",
              "      <td>0.025646</td>\n",
              "      <td>0.037130</td>\n",
              "      <td>0.026770</td>\n",
              "      <td>1.000000</td>\n",
              "      <td>0.500485</td>\n",
              "      <td>0.036451</td>\n",
              "      <td>0.009695</td>\n",
              "      <td>0.010833</td>\n",
              "      <td>-0.006854</td>\n",
              "    </tr>\n",
              "    <tr>\n",
              "      <th>BuildingArea</th>\n",
              "      <td>0.124127</td>\n",
              "      <td>0.090981</td>\n",
              "      <td>0.099481</td>\n",
              "      <td>0.055475</td>\n",
              "      <td>0.122319</td>\n",
              "      <td>0.111933</td>\n",
              "      <td>0.096101</td>\n",
              "      <td>0.500485</td>\n",
              "      <td>1.000000</td>\n",
              "      <td>0.019665</td>\n",
              "      <td>0.043420</td>\n",
              "      <td>-0.023810</td>\n",
              "      <td>-0.028840</td>\n",
              "    </tr>\n",
              "    <tr>\n",
              "      <th>YearBuilt</th>\n",
              "      <td>-0.065413</td>\n",
              "      <td>-0.323617</td>\n",
              "      <td>0.246379</td>\n",
              "      <td>0.032863</td>\n",
              "      <td>-0.053319</td>\n",
              "      <td>0.152702</td>\n",
              "      <td>0.104515</td>\n",
              "      <td>0.036451</td>\n",
              "      <td>0.019665</td>\n",
              "      <td>1.000000</td>\n",
              "      <td>0.060445</td>\n",
              "      <td>-0.003470</td>\n",
              "      <td>0.006361</td>\n",
              "    </tr>\n",
              "    <tr>\n",
              "      <th>Lattitude</th>\n",
              "      <td>0.015948</td>\n",
              "      <td>-0.212934</td>\n",
              "      <td>-0.130723</td>\n",
              "      <td>-0.406104</td>\n",
              "      <td>0.015925</td>\n",
              "      <td>-0.070594</td>\n",
              "      <td>-0.001963</td>\n",
              "      <td>0.009695</td>\n",
              "      <td>0.043420</td>\n",
              "      <td>0.060445</td>\n",
              "      <td>1.000000</td>\n",
              "      <td>-0.357634</td>\n",
              "      <td>0.047086</td>\n",
              "    </tr>\n",
              "    <tr>\n",
              "      <th>Longtitude</th>\n",
              "      <td>0.100771</td>\n",
              "      <td>0.203656</td>\n",
              "      <td>0.239425</td>\n",
              "      <td>0.445357</td>\n",
              "      <td>0.102238</td>\n",
              "      <td>0.118971</td>\n",
              "      <td>0.063395</td>\n",
              "      <td>0.010833</td>\n",
              "      <td>-0.023810</td>\n",
              "      <td>-0.003470</td>\n",
              "      <td>-0.357634</td>\n",
              "      <td>1.000000</td>\n",
              "      <td>0.065988</td>\n",
              "    </tr>\n",
              "    <tr>\n",
              "      <th>Propertycount</th>\n",
              "      <td>-0.081530</td>\n",
              "      <td>-0.042153</td>\n",
              "      <td>-0.054910</td>\n",
              "      <td>0.062304</td>\n",
              "      <td>-0.081350</td>\n",
              "      <td>-0.052201</td>\n",
              "      <td>-0.024295</td>\n",
              "      <td>-0.006854</td>\n",
              "      <td>-0.028840</td>\n",
              "      <td>0.006361</td>\n",
              "      <td>0.047086</td>\n",
              "      <td>0.065988</td>\n",
              "      <td>1.000000</td>\n",
              "    </tr>\n",
              "  </tbody>\n",
              "</table>\n",
              "</div>\n",
              "      <button class=\"colab-df-convert\" onclick=\"convertToInteractive('df-c703c736-c468-428a-b26e-84bc5818e02b')\"\n",
              "              title=\"Convert this dataframe to an interactive table.\"\n",
              "              style=\"display:none;\">\n",
              "        \n",
              "  <svg xmlns=\"http://www.w3.org/2000/svg\" height=\"24px\"viewBox=\"0 0 24 24\"\n",
              "       width=\"24px\">\n",
              "    <path d=\"M0 0h24v24H0V0z\" fill=\"none\"/>\n",
              "    <path d=\"M18.56 5.44l.94 2.06.94-2.06 2.06-.94-2.06-.94-.94-2.06-.94 2.06-2.06.94zm-11 1L8.5 8.5l.94-2.06 2.06-.94-2.06-.94L8.5 2.5l-.94 2.06-2.06.94zm10 10l.94 2.06.94-2.06 2.06-.94-2.06-.94-.94-2.06-.94 2.06-2.06.94z\"/><path d=\"M17.41 7.96l-1.37-1.37c-.4-.4-.92-.59-1.43-.59-.52 0-1.04.2-1.43.59L10.3 9.45l-7.72 7.72c-.78.78-.78 2.05 0 2.83L4 21.41c.39.39.9.59 1.41.59.51 0 1.02-.2 1.41-.59l7.78-7.78 2.81-2.81c.8-.78.8-2.07 0-2.86zM5.41 20L4 18.59l7.72-7.72 1.47 1.35L5.41 20z\"/>\n",
              "  </svg>\n",
              "      </button>\n",
              "      \n",
              "  <style>\n",
              "    .colab-df-container {\n",
              "      display:flex;\n",
              "      flex-wrap:wrap;\n",
              "      gap: 12px;\n",
              "    }\n",
              "\n",
              "    .colab-df-convert {\n",
              "      background-color: #E8F0FE;\n",
              "      border: none;\n",
              "      border-radius: 50%;\n",
              "      cursor: pointer;\n",
              "      display: none;\n",
              "      fill: #1967D2;\n",
              "      height: 32px;\n",
              "      padding: 0 0 0 0;\n",
              "      width: 32px;\n",
              "    }\n",
              "\n",
              "    .colab-df-convert:hover {\n",
              "      background-color: #E2EBFA;\n",
              "      box-shadow: 0px 1px 2px rgba(60, 64, 67, 0.3), 0px 1px 3px 1px rgba(60, 64, 67, 0.15);\n",
              "      fill: #174EA6;\n",
              "    }\n",
              "\n",
              "    [theme=dark] .colab-df-convert {\n",
              "      background-color: #3B4455;\n",
              "      fill: #D2E3FC;\n",
              "    }\n",
              "\n",
              "    [theme=dark] .colab-df-convert:hover {\n",
              "      background-color: #434B5C;\n",
              "      box-shadow: 0px 1px 3px 1px rgba(0, 0, 0, 0.15);\n",
              "      filter: drop-shadow(0px 1px 2px rgba(0, 0, 0, 0.3));\n",
              "      fill: #FFFFFF;\n",
              "    }\n",
              "  </style>\n",
              "\n",
              "      <script>\n",
              "        const buttonEl =\n",
              "          document.querySelector('#df-c703c736-c468-428a-b26e-84bc5818e02b button.colab-df-convert');\n",
              "        buttonEl.style.display =\n",
              "          google.colab.kernel.accessAllowed ? 'block' : 'none';\n",
              "\n",
              "        async function convertToInteractive(key) {\n",
              "          const element = document.querySelector('#df-c703c736-c468-428a-b26e-84bc5818e02b');\n",
              "          const dataTable =\n",
              "            await google.colab.kernel.invokeFunction('convertToInteractive',\n",
              "                                                     [key], {});\n",
              "          if (!dataTable) return;\n",
              "\n",
              "          const docLinkHtml = 'Like what you see? Visit the ' +\n",
              "            '<a target=\"_blank\" href=https://colab.research.google.com/notebooks/data_table.ipynb>data table notebook</a>'\n",
              "            + ' to learn more about interactive tables.';\n",
              "          element.innerHTML = '';\n",
              "          dataTable['output_type'] = 'display_data';\n",
              "          await google.colab.output.renderOutput(dataTable, element);\n",
              "          const docLink = document.createElement('div');\n",
              "          docLink.innerHTML = docLinkHtml;\n",
              "          element.appendChild(docLink);\n",
              "        }\n",
              "      </script>\n",
              "    </div>\n",
              "  </div>\n",
              "  "
            ],
            "text/plain": [
              "                  Rooms     Price  ...  Longtitude  Propertycount\n",
              "Rooms          1.000000  0.496634  ...    0.100771      -0.081530\n",
              "Price          0.496634  1.000000  ...    0.203656      -0.042153\n",
              "Distance       0.294203 -0.162522  ...    0.239425      -0.054910\n",
              "Postcode       0.055303  0.107867  ...    0.445357       0.062304\n",
              "Bedroom2       0.944190  0.475951  ...    0.102238      -0.081350\n",
              "Bathroom       0.592934  0.467038  ...    0.118971      -0.052201\n",
              "Car            0.408483  0.238979  ...    0.063395      -0.024295\n",
              "Landsize       0.025678  0.037507  ...    0.010833      -0.006854\n",
              "BuildingArea   0.124127  0.090981  ...   -0.023810      -0.028840\n",
              "YearBuilt     -0.065413 -0.323617  ...   -0.003470       0.006361\n",
              "Lattitude      0.015948 -0.212934  ...   -0.357634       0.047086\n",
              "Longtitude     0.100771  0.203656  ...    1.000000       0.065988\n",
              "Propertycount -0.081530 -0.042153  ...    0.065988       1.000000\n",
              "\n",
              "[13 rows x 13 columns]"
            ]
          },
          "metadata": {},
          "execution_count": 39
        }
      ]
    },
    {
      "cell_type": "markdown",
      "source": [
        "#### Answer:\n",
        "The Pearson Correlation Coefficient between Bedroom2 and Rooms is 0.944. Which shows strong positive correlation."
      ],
      "metadata": {
        "id": "P_Hst1VI1_AO"
      }
    },
    {
      "cell_type": "markdown",
      "source": [
        "### (c) Scatter plot of the fitted values of the line of best fit against the residuals\n"
      ],
      "metadata": {
        "id": "TROQtg-22jkE"
      }
    },
    {
      "cell_type": "code",
      "source": [
        "# fit the model\n",
        "model = ols(formula = 'Bedroom2 ~ Rooms', data=df)\n",
        "res = model.fit()\n",
        "b, m = res.params\n",
        "\n",
        "x = df['Bedroom2']\n",
        "\n",
        "# make the plot\n",
        "sns.lmplot( x=\"Bedroom2\", y=\"Rooms\", data=df, fit_reg=False)\n",
        "\n",
        "\n",
        "plt.plot(x, m*x + b)\n",
        "\n",
        "plt.xlim(min(df[\"Bedroom2\"]), max(df[\"Bedroom2\"]))\n",
        "plt.ylim(min(df[\"Rooms\"]), max(df[\"Rooms\"]))\n",
        "plt.show()"
      ],
      "metadata": {
        "colab": {
          "base_uri": "https://localhost:8080/",
          "height": 373
        },
        "id": "jMnfdUW02mgB",
        "outputId": "6a73a040-09fb-4e6e-b1b1-cd235a984aa0"
      },
      "execution_count": null,
      "outputs": [
        {
          "output_type": "display_data",
          "data": {
            "image/png": "[encoded data removed]",
            "text/plain": [
              "<Figure size 360x360 with 1 Axes>"
            ]
          },
          "metadata": {
            "needs_background": "light"
          }
        }
      ]
    },
    {
      "cell_type": "markdown",
      "source": [
        "## Question 4.\n",
        "\n",
        "### (a) Pick three variables that might be linearly correlated with Price (anything with Correlation Coefficient ρ satisfying |ρ|> 0.1) that satisfy a *weak* assumption of non-Multicolinearity (use a Correlation Coefficient ρ satisfying |ρ|> 0.75 to determine **strongly** colinear)"
      ],
      "metadata": {
        "id": "LD1zGggmJ5AI"
      }
    },
    {
      "cell_type": "code",
      "source": [
        "#looked for graphic relationships, reference w/ Corr Coef |p|>.1\n",
        "sns.pairplot(data=df, y_vars=\"Price\")"
      ],
      "metadata": {
        "id": "yF2_0tweJ9Uc"
      },
      "execution_count": null,
      "outputs": []
    },
    {
      "cell_type": "markdown",
      "source": [
        "#### Answer:\n",
        "I chose to use the variables \"Bathroom\", \"Bedroom2\", and \"YearBuilt\", with Pearson Correlation Coefficients of 0.47, 0.48, and -0.32, respectively (0.75 > |p| > 0.10)."
      ],
      "metadata": {
        "id": "Dq0OMtjfM3iM"
      }
    },
    {
      "cell_type": "markdown",
      "source": [
        "### (b) Perform OLS regression and report the ${R^2}$."
      ],
      "metadata": {
        "id": "2epMsKHBMFep"
      }
    },
    {
      "cell_type": "code",
      "source": [
        "df = df.dropna()\n",
        "model = ols(formula = 'Price ~ Bathroom + Bedroom2 + YearBuilt', data=df)\n",
        "res2 = model.fit()\n",
        "res2.summary()"
      ],
      "metadata": {
        "id": "TdV5VFm8LJT2"
      },
      "execution_count": null,
      "outputs": []
    },
    {
      "cell_type": "code",
      "source": [
        "print(f'This model has an R^2 of {res2.rsquared}')"
      ],
      "metadata": {
        "id": "K7Q5NtM1MIrG"
      },
      "execution_count": null,
      "outputs": []
    },
    {
      "cell_type": "markdown",
      "source": [
        "## Question 5.\n",
        "### (a) Create a validation set using ten percent of the data."
      ],
      "metadata": {
        "id": "dEZIHPmckwbH"
      }
    },
    {
      "cell_type": "code",
      "source": [
        "from sklearn.model_selection import train_test_split\n",
        "\n",
        "# take random 10% of the sales for testing\n",
        "train, val = train_test_split(df, test_size=0.1, random_state=2020)"
      ],
      "metadata": {
        "id": "hMSzqLOxor4s"
      },
      "execution_count": null,
      "outputs": []
    },
    {
      "cell_type": "markdown",
      "source": [
        "### (b) Engineer one new feature."
      ],
      "metadata": {
        "id": "nvB9HEaAkyMA"
      }
    },
    {
      "cell_type": "code",
      "source": [
        "# new feature-ratio of Bedrooms to Bathrooms\n",
        "\n",
        "train['Bedroom_to_Bathroom'] = train['Bedroom2'] / train['Bathroom'] \n",
        "val['Bedroom_to_Bathroom'] = val['Bedroom2'] / val['Bathroom'] "
      ],
      "metadata": {
        "id": "mqr6HVNXl8K-"
      },
      "execution_count": null,
      "outputs": []
    },
    {
      "cell_type": "code",
      "source": [
        "# Here is an adjustment made to this feature to convert the non-finite values to nan, drop them, then round all the results to 2 decimal places: [Brooke]\n",
        "\n",
        "# train:\n",
        "train[train==np.inf]=np.nan\n",
        "trian = train.dropna()\n",
        "\n",
        "train['Bedroom_to_Bathroom'].round(decimals = 2)\n",
        "\n",
        "# val:\n",
        "val[val==np.inf]=np.nan\n",
        "val = val.dropna()\n",
        "\n",
        "val['Bedroom_to_Bathroom'].round(decimals = 2)"
      ],
      "metadata": {
        "id": "tZIhcKWx_1jZ"
      },
      "execution_count": null,
      "outputs": []
    },
    {
      "cell_type": "markdown",
      "source": [
        "### (c) Use this validation set and the ${R^2}$ metric to decide if this new feature improves the model."
      ],
      "metadata": {
        "id": "J0NLPl7xkyo5"
      }
    },
    {
      "cell_type": "code",
      "source": [
        "# build model on training set\n",
        "model = ols(formula = 'Price ~ Bathroom + Bedroom2 + Bedroom_to_Bathroom + YearBuilt', data=train)\n",
        "res = model.fit()\n",
        "\n",
        "# predict using the model\n",
        "y_pred = res.predict(val)\n",
        "\n",
        "# score the model\n",
        "y = val['Price']\n",
        "y_mean = train['Price'].mean()  # use the mean of the training set\n",
        "\n",
        "TSS = sum((y - y_mean)**2)\n",
        "RSS = sum((y_pred - y)**2)\n",
        "print(f'This model has an R^2 on the test set of {(TSS - RSS) / TSS}')"
      ],
      "metadata": {
        "id": "1VvckBcYpbxU"
      },
      "execution_count": null,
      "outputs": []
    },
    {
      "cell_type": "markdown",
      "source": [
        "## Question 6\n",
        "\n",
        "### (a) Create a new variable called above_median which indicates whether a house's price is above the median price for houses in this dataset."
      ],
      "metadata": {
        "id": "C_nbAT5PMdtN"
      }
    },
    {
      "cell_type": "code",
      "source": [
        "# adding new feature to the train and validation set: dummy variable for if a house is above the median home price\n",
        "\n",
        "# training set:\n",
        "train['above_median'] = train['Price'].apply(lambda x : int(x >= (train['Price'].median())))\n",
        "\n",
        "# validation set:\n",
        "val['above_median'] = val['Price'].apply(lambda x : int(x >= (val['Price'].median())))"
      ],
      "metadata": {
        "id": "XaLtmyDHMb3B"
      },
      "execution_count": null,
      "outputs": []
    },
    {
      "cell_type": "markdown",
      "source": [
        "### (b) Report the accuracy of your model from Q5 created from the training set at predicting this new variable on the validation set. "
      ],
      "metadata": {
        "id": "gRm9-D7zN1LP"
      }
    },
    {
      "cell_type": "code",
      "source": [
        "y_pred = res.predict(train)\n",
        "y_pred = y_pred > train[\"Price\"].median()"
      ],
      "metadata": {
        "id": "Ki7oHaniCsJP"
      },
      "execution_count": null,
      "outputs": []
    },
    {
      "cell_type": "code",
      "source": [
        "correct = sum(y_pred == train['above_median'])\n",
        "accuracy = correct / len(y_pred)\n",
        "print(f'This model has accuracy: {100*accuracy}%')"
      ],
      "metadata": {
        "id": "nhlfmnMXN0ci"
      },
      "execution_count": null,
      "outputs": []
    },
    {
      "cell_type": "markdown",
      "source": [
        "#### (c) Perform Logistic regression using the same training set and report the accuracy from using this model on the same validation set. "
      ],
      "metadata": {
        "id": "IKZseSLAEOfW"
      }
    },
    {
      "cell_type": "code",
      "source": [
        "from statsmodels.formula.api import logit\n",
        "\n",
        "model2 = logit(formula = 'above_median ~ Bathroom + Bedroom2 + Bedroom_to_Bathroom + YearBuilt', data=train)\n",
        "res2 = model2.fit()\n",
        "\n",
        "x = val[['Bathroom', 'Bedroom2', 'Bedroom_to_Bathroom', ' YearBuilt']]\n",
        "y = val['above_median']"
      ],
      "metadata": {
        "id": "FL7ctqP_ENdh"
      },
      "execution_count": null,
      "outputs": []
    },
    {
      "cell_type": "code",
      "source": [
        "y_pred_prob = res.predict(x)\n",
        "y_pred = (y_pred_prob >= 0.5).apply(int)"
      ],
      "metadata": {
        "id": "2oTFJFtNKvo5"
      },
      "execution_count": null,
      "outputs": []
    },
    {
      "cell_type": "code",
      "source": [
        "acc = metrics.accuracy_score(y, y_pred)\n",
        "print(f'This model has accuracy: {100*accuracy}%')"
      ],
      "metadata": {
        "id": "dGD2dzYpK2v0"
      },
      "execution_count": null,
      "outputs": []
    },
    {
      "cell_type": "markdown",
      "source": [
        "#### (d) Compute the Precision, Recall, and AUC for both models on the validation set. "
      ],
      "metadata": {
        "id": "sk0mbXB1LGlz"
      }
    },
    {
      "cell_type": "code",
      "source": [
        "recall = metrics.recall_score(y, y_pred)\n",
        "prec = metrics.precision_score(y, y_pred)\n",
        "\n",
        "print(f'The Recall of the model on the validation set is {recall}')\n",
        "print(f'The Precision of the model on the validation set is {prec}')"
      ],
      "metadata": {
        "id": "70EKDmrKpJs6"
      },
      "execution_count": null,
      "outputs": []
    },
    {
      "cell_type": "markdown",
      "source": [
        "## Question 7\n",
        "Perform a linear regression using the training set from Q5 with all numerical variables to predict price use either Lasso or Ridge regression. Report the ${R^2}$\n",
        " on the validation set. "
      ],
      "metadata": {
        "id": "YX9U5WN8or_f"
      }
    },
    {
      "cell_type": "code",
      "source": [
        "# chose to use Ridge regression due to lower amount of variables \n",
        "from sklearn.linear_model import Ridge\n",
        "\n",
        "x_train = train[['Bathroom', 'Bedroom2', 'Bedroom_to_Bathroom', 'YearBuilt']]\n",
        "y_train = train['Price']\n",
        "\n",
        "model = Ridge(alpha=10.0)\n",
        "model.fit(x_train,y_train)\n",
        "\n",
        "y_pred = model.predict(x_train)\n",
        "\n",
        "# score the model\n",
        "r2 = model.score(x_train, y_train)\n",
        "print(f'This model has an R^2 on the train set of {r2}')"
      ],
      "metadata": {
        "id": "5vFjp-a8orCk"
      },
      "execution_count": null,
      "outputs": []
    },
    {
      "cell_type": "code",
      "source": [
        "from sklearn.model_selection import GridSearchCV\n",
        "\n",
        "model = Ridge()\n",
        "\n",
        "# pass other parameters\n",
        "params = {'alpha' : [0.001, 0.001, 0.01, 0.1, 0.5, 1, 2, 5, 10, 20, 50, 100, 200, 500, 1000]}\n",
        "\n",
        "# define the search\n",
        "search = GridSearchCV(model, params, scoring='r2', cv=9)\n",
        "\n",
        "# make sure our feature is added to the df as well:\n",
        "df['Bedroom_to_Bathroom'] = df['Bedroom2'] / df['Bathroom'] \n",
        "df[df==np.inf]=np.nan\n",
        "df = df.dropna()\n",
        "df['Bedroom_to_Bathroom'].round(decimals = 2)\n",
        "\n",
        "# shuffle the data, GridSearch does not shuffle\n",
        "df2 = df.sample(frac=1, random_state=2020)\n",
        "x = df[['Bathroom', 'Bedroom2', 'Bedroom_to_Bathroom', 'YearBuilt']]\n",
        "y = df['Price']\n",
        "\n",
        "# execute search\n",
        "result = search.fit(x, y)"
      ],
      "metadata": {
        "id": "PxDdUg7eqEdL"
      },
      "execution_count": null,
      "outputs": []
    },
    {
      "cell_type": "code",
      "source": [
        "result.best_score_, result.best_params_"
      ],
      "metadata": {
        "id": "PaOLZ-sBqIGP"
      },
      "execution_count": null,
      "outputs": []
    }
  ]
}