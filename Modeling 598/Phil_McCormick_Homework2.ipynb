{
  "nbformat": 4,
  "nbformat_minor": 0,
  "metadata": {
    "colab": {
      "name": "Phil_McCormick_Homework2.ipynb",
      "provenance": [],
      "collapsed_sections": []
    },
    "kernelspec": {
      "name": "python3",
      "display_name": "Python 3"
    },
    "language_info": {
      "name": "python"
    }
  },
  "cells": [
    {
      "cell_type": "markdown",
      "source": [
        "Philip McCormick\n",
        "\n",
        "MSDS 598\n",
        "\n",
        "February 28, 2022\n",
        "\n",
        "Homework 2\n"
      ],
      "metadata": {
        "id": "CRF4ilEeiYzd"
      }
    },
    {
      "cell_type": "code",
      "execution_count": 29,
      "metadata": {
        "colab": {
          "base_uri": "https://localhost:8080/",
          "height": 237
        },
        "id": "hgCOJWzK5MJ-",
        "outputId": "a190b3b6-3817-4c82-d937-5a8250d97802"
      },
      "outputs": [
        {
          "output_type": "execute_result",
          "data": {
            "text/html": [
              "\n",
              "  <div id=\"df-3b102444-954f-4428-85ba-a83cefaa6e9b\">\n",
              "    <div class=\"colab-df-container\">\n",
              "      <div>\n",
              "<style scoped>\n",
              "    .dataframe tbody tr th:only-of-type {\n",
              "        vertical-align: middle;\n",
              "    }\n",
              "\n",
              "    .dataframe tbody tr th {\n",
              "        vertical-align: top;\n",
              "    }\n",
              "\n",
              "    .dataframe thead th {\n",
              "        text-align: right;\n",
              "    }\n",
              "</style>\n",
              "<table border=\"1\" class=\"dataframe\">\n",
              "  <thead>\n",
              "    <tr style=\"text-align: right;\">\n",
              "      <th></th>\n",
              "      <th>passengers</th>\n",
              "      <th>distance</th>\n",
              "      <th>fare</th>\n",
              "      <th>tip</th>\n",
              "      <th>tolls</th>\n",
              "      <th>total</th>\n",
              "    </tr>\n",
              "  </thead>\n",
              "  <tbody>\n",
              "    <tr>\n",
              "      <th>passengers</th>\n",
              "      <td>1.000000</td>\n",
              "      <td>0.009411</td>\n",
              "      <td>0.007637</td>\n",
              "      <td>0.021099</td>\n",
              "      <td>-0.002903</td>\n",
              "      <td>0.015708</td>\n",
              "    </tr>\n",
              "    <tr>\n",
              "      <th>distance</th>\n",
              "      <td>0.009411</td>\n",
              "      <td>1.000000</td>\n",
              "      <td>0.920108</td>\n",
              "      <td>0.452589</td>\n",
              "      <td>0.635267</td>\n",
              "      <td>0.904676</td>\n",
              "    </tr>\n",
              "    <tr>\n",
              "      <th>fare</th>\n",
              "      <td>0.007637</td>\n",
              "      <td>0.920108</td>\n",
              "      <td>1.000000</td>\n",
              "      <td>0.488612</td>\n",
              "      <td>0.609307</td>\n",
              "      <td>0.974358</td>\n",
              "    </tr>\n",
              "    <tr>\n",
              "      <th>tip</th>\n",
              "      <td>0.021099</td>\n",
              "      <td>0.452589</td>\n",
              "      <td>0.488612</td>\n",
              "      <td>1.000000</td>\n",
              "      <td>0.413619</td>\n",
              "      <td>0.646186</td>\n",
              "    </tr>\n",
              "    <tr>\n",
              "      <th>tolls</th>\n",
              "      <td>-0.002903</td>\n",
              "      <td>0.635267</td>\n",
              "      <td>0.609307</td>\n",
              "      <td>0.413619</td>\n",
              "      <td>1.000000</td>\n",
              "      <td>0.683142</td>\n",
              "    </tr>\n",
              "    <tr>\n",
              "      <th>total</th>\n",
              "      <td>0.015708</td>\n",
              "      <td>0.904676</td>\n",
              "      <td>0.974358</td>\n",
              "      <td>0.646186</td>\n",
              "      <td>0.683142</td>\n",
              "      <td>1.000000</td>\n",
              "    </tr>\n",
              "  </tbody>\n",
              "</table>\n",
              "</div>\n",
              "      <button class=\"colab-df-convert\" onclick=\"convertToInteractive('df-3b102444-954f-4428-85ba-a83cefaa6e9b')\"\n",
              "              title=\"Convert this dataframe to an interactive table.\"\n",
              "              style=\"display:none;\">\n",
              "        \n",
              "  <svg xmlns=\"http://www.w3.org/2000/svg\" height=\"24px\"viewBox=\"0 0 24 24\"\n",
              "       width=\"24px\">\n",
              "    <path d=\"M0 0h24v24H0V0z\" fill=\"none\"/>\n",
              "    <path d=\"M18.56 5.44l.94 2.06.94-2.06 2.06-.94-2.06-.94-.94-2.06-.94 2.06-2.06.94zm-11 1L8.5 8.5l.94-2.06 2.06-.94-2.06-.94L8.5 2.5l-.94 2.06-2.06.94zm10 10l.94 2.06.94-2.06 2.06-.94-2.06-.94-.94-2.06-.94 2.06-2.06.94z\"/><path d=\"M17.41 7.96l-1.37-1.37c-.4-.4-.92-.59-1.43-.59-.52 0-1.04.2-1.43.59L10.3 9.45l-7.72 7.72c-.78.78-.78 2.05 0 2.83L4 21.41c.39.39.9.59 1.41.59.51 0 1.02-.2 1.41-.59l7.78-7.78 2.81-2.81c.8-.78.8-2.07 0-2.86zM5.41 20L4 18.59l7.72-7.72 1.47 1.35L5.41 20z\"/>\n",
              "  </svg>\n",
              "      </button>\n",
              "      \n",
              "  <style>\n",
              "    .colab-df-container {\n",
              "      display:flex;\n",
              "      flex-wrap:wrap;\n",
              "      gap: 12px;\n",
              "    }\n",
              "\n",
              "    .colab-df-convert {\n",
              "      background-color: #E8F0FE;\n",
              "      border: none;\n",
              "      border-radius: 50%;\n",
              "      cursor: pointer;\n",
              "      display: none;\n",
              "      fill: #1967D2;\n",
              "      height: 32px;\n",
              "      padding: 0 0 0 0;\n",
              "      width: 32px;\n",
              "    }\n",
              "\n",
              "    .colab-df-convert:hover {\n",
              "      background-color: #E2EBFA;\n",
              "      box-shadow: 0px 1px 2px rgba(60, 64, 67, 0.3), 0px 1px 3px 1px rgba(60, 64, 67, 0.15);\n",
              "      fill: #174EA6;\n",
              "    }\n",
              "\n",
              "    [theme=dark] .colab-df-convert {\n",
              "      background-color: #3B4455;\n",
              "      fill: #D2E3FC;\n",
              "    }\n",
              "\n",
              "    [theme=dark] .colab-df-convert:hover {\n",
              "      background-color: #434B5C;\n",
              "      box-shadow: 0px 1px 3px 1px rgba(0, 0, 0, 0.15);\n",
              "      filter: drop-shadow(0px 1px 2px rgba(0, 0, 0, 0.3));\n",
              "      fill: #FFFFFF;\n",
              "    }\n",
              "  </style>\n",
              "\n",
              "      <script>\n",
              "        const buttonEl =\n",
              "          document.querySelector('#df-3b102444-954f-4428-85ba-a83cefaa6e9b button.colab-df-convert');\n",
              "        buttonEl.style.display =\n",
              "          google.colab.kernel.accessAllowed ? 'block' : 'none';\n",
              "\n",
              "        async function convertToInteractive(key) {\n",
              "          const element = document.querySelector('#df-3b102444-954f-4428-85ba-a83cefaa6e9b');\n",
              "          const dataTable =\n",
              "            await google.colab.kernel.invokeFunction('convertToInteractive',\n",
              "                                                     [key], {});\n",
              "          if (!dataTable) return;\n",
              "\n",
              "          const docLinkHtml = 'Like what you see? Visit the ' +\n",
              "            '<a target=\"_blank\" href=https://colab.research.google.com/notebooks/data_table.ipynb>data table notebook</a>'\n",
              "            + ' to learn more about interactive tables.';\n",
              "          element.innerHTML = '';\n",
              "          dataTable['output_type'] = 'display_data';\n",
              "          await google.colab.output.renderOutput(dataTable, element);\n",
              "          const docLink = document.createElement('div');\n",
              "          docLink.innerHTML = docLinkHtml;\n",
              "          element.appendChild(docLink);\n",
              "        }\n",
              "      </script>\n",
              "    </div>\n",
              "  </div>\n",
              "  "
            ],
            "text/plain": [
              "            passengers  distance      fare       tip     tolls     total\n",
              "passengers    1.000000  0.009411  0.007637  0.021099 -0.002903  0.015708\n",
              "distance      0.009411  1.000000  0.920108  0.452589  0.635267  0.904676\n",
              "fare          0.007637  0.920108  1.000000  0.488612  0.609307  0.974358\n",
              "tip           0.021099  0.452589  0.488612  1.000000  0.413619  0.646186\n",
              "tolls        -0.002903  0.635267  0.609307  0.413619  1.000000  0.683142\n",
              "total         0.015708  0.904676  0.974358  0.646186  0.683142  1.000000"
            ]
          },
          "metadata": {},
          "execution_count": 29
        }
      ],
      "source": [
        "import pandas as pd\n",
        "import numpy as np\n",
        "import matplotlib.pyplot as plt\n",
        "import math\n",
        "import random\n",
        "\n",
        "import seaborn as sns\n",
        "import statsmodels.api as sm\n",
        "from statsmodels.formula.api import ols\n",
        "\n",
        "df_taxis = sns.load_dataset('taxis')\n",
        "df_taxis.corr()"
      ]
    },
    {
      "cell_type": "code",
      "source": [
        "df_taxis.head(1)"
      ],
      "metadata": {
        "colab": {
          "base_uri": "https://localhost:8080/",
          "height": 179
        },
        "id": "0KSzs8HMZFxH",
        "outputId": "a7bd4608-2588-471f-c121-7447043bd9c4"
      },
      "execution_count": 2,
      "outputs": [
        {
          "output_type": "execute_result",
          "data": {
            "text/html": [
              "\n",
              "  <div id=\"df-35a1d571-c44a-4e00-84c3-003f73c02def\">\n",
              "    <div class=\"colab-df-container\">\n",
              "      <div>\n",
              "<style scoped>\n",
              "    .dataframe tbody tr th:only-of-type {\n",
              "        vertical-align: middle;\n",
              "    }\n",
              "\n",
              "    .dataframe tbody tr th {\n",
              "        vertical-align: top;\n",
              "    }\n",
              "\n",
              "    .dataframe thead th {\n",
              "        text-align: right;\n",
              "    }\n",
              "</style>\n",
              "<table border=\"1\" class=\"dataframe\">\n",
              "  <thead>\n",
              "    <tr style=\"text-align: right;\">\n",
              "      <th></th>\n",
              "      <th>pickup</th>\n",
              "      <th>dropoff</th>\n",
              "      <th>passengers</th>\n",
              "      <th>distance</th>\n",
              "      <th>fare</th>\n",
              "      <th>tip</th>\n",
              "      <th>tolls</th>\n",
              "      <th>total</th>\n",
              "      <th>color</th>\n",
              "      <th>payment</th>\n",
              "      <th>pickup_zone</th>\n",
              "      <th>dropoff_zone</th>\n",
              "      <th>pickup_borough</th>\n",
              "      <th>dropoff_borough</th>\n",
              "    </tr>\n",
              "  </thead>\n",
              "  <tbody>\n",
              "    <tr>\n",
              "      <th>0</th>\n",
              "      <td>2019-03-23 20:21:09</td>\n",
              "      <td>2019-03-23 20:27:24</td>\n",
              "      <td>1</td>\n",
              "      <td>1.6</td>\n",
              "      <td>7.0</td>\n",
              "      <td>2.15</td>\n",
              "      <td>0.0</td>\n",
              "      <td>12.95</td>\n",
              "      <td>yellow</td>\n",
              "      <td>credit card</td>\n",
              "      <td>Lenox Hill West</td>\n",
              "      <td>UN/Turtle Bay South</td>\n",
              "      <td>Manhattan</td>\n",
              "      <td>Manhattan</td>\n",
              "    </tr>\n",
              "  </tbody>\n",
              "</table>\n",
              "</div>\n",
              "      <button class=\"colab-df-convert\" onclick=\"convertToInteractive('df-35a1d571-c44a-4e00-84c3-003f73c02def')\"\n",
              "              title=\"Convert this dataframe to an interactive table.\"\n",
              "              style=\"display:none;\">\n",
              "        \n",
              "  <svg xmlns=\"http://www.w3.org/2000/svg\" height=\"24px\"viewBox=\"0 0 24 24\"\n",
              "       width=\"24px\">\n",
              "    <path d=\"M0 0h24v24H0V0z\" fill=\"none\"/>\n",
              "    <path d=\"M18.56 5.44l.94 2.06.94-2.06 2.06-.94-2.06-.94-.94-2.06-.94 2.06-2.06.94zm-11 1L8.5 8.5l.94-2.06 2.06-.94-2.06-.94L8.5 2.5l-.94 2.06-2.06.94zm10 10l.94 2.06.94-2.06 2.06-.94-2.06-.94-.94-2.06-.94 2.06-2.06.94z\"/><path d=\"M17.41 7.96l-1.37-1.37c-.4-.4-.92-.59-1.43-.59-.52 0-1.04.2-1.43.59L10.3 9.45l-7.72 7.72c-.78.78-.78 2.05 0 2.83L4 21.41c.39.39.9.59 1.41.59.51 0 1.02-.2 1.41-.59l7.78-7.78 2.81-2.81c.8-.78.8-2.07 0-2.86zM5.41 20L4 18.59l7.72-7.72 1.47 1.35L5.41 20z\"/>\n",
              "  </svg>\n",
              "      </button>\n",
              "      \n",
              "  <style>\n",
              "    .colab-df-container {\n",
              "      display:flex;\n",
              "      flex-wrap:wrap;\n",
              "      gap: 12px;\n",
              "    }\n",
              "\n",
              "    .colab-df-convert {\n",
              "      background-color: #E8F0FE;\n",
              "      border: none;\n",
              "      border-radius: 50%;\n",
              "      cursor: pointer;\n",
              "      display: none;\n",
              "      fill: #1967D2;\n",
              "      height: 32px;\n",
              "      padding: 0 0 0 0;\n",
              "      width: 32px;\n",
              "    }\n",
              "\n",
              "    .colab-df-convert:hover {\n",
              "      background-color: #E2EBFA;\n",
              "      box-shadow: 0px 1px 2px rgba(60, 64, 67, 0.3), 0px 1px 3px 1px rgba(60, 64, 67, 0.15);\n",
              "      fill: #174EA6;\n",
              "    }\n",
              "\n",
              "    [theme=dark] .colab-df-convert {\n",
              "      background-color: #3B4455;\n",
              "      fill: #D2E3FC;\n",
              "    }\n",
              "\n",
              "    [theme=dark] .colab-df-convert:hover {\n",
              "      background-color: #434B5C;\n",
              "      box-shadow: 0px 1px 3px 1px rgba(0, 0, 0, 0.15);\n",
              "      filter: drop-shadow(0px 1px 2px rgba(0, 0, 0, 0.3));\n",
              "      fill: #FFFFFF;\n",
              "    }\n",
              "  </style>\n",
              "\n",
              "      <script>\n",
              "        const buttonEl =\n",
              "          document.querySelector('#df-35a1d571-c44a-4e00-84c3-003f73c02def button.colab-df-convert');\n",
              "        buttonEl.style.display =\n",
              "          google.colab.kernel.accessAllowed ? 'block' : 'none';\n",
              "\n",
              "        async function convertToInteractive(key) {\n",
              "          const element = document.querySelector('#df-35a1d571-c44a-4e00-84c3-003f73c02def');\n",
              "          const dataTable =\n",
              "            await google.colab.kernel.invokeFunction('convertToInteractive',\n",
              "                                                     [key], {});\n",
              "          if (!dataTable) return;\n",
              "\n",
              "          const docLinkHtml = 'Like what you see? Visit the ' +\n",
              "            '<a target=\"_blank\" href=https://colab.research.google.com/notebooks/data_table.ipynb>data table notebook</a>'\n",
              "            + ' to learn more about interactive tables.';\n",
              "          element.innerHTML = '';\n",
              "          dataTable['output_type'] = 'display_data';\n",
              "          await google.colab.output.renderOutput(dataTable, element);\n",
              "          const docLink = document.createElement('div');\n",
              "          docLink.innerHTML = docLinkHtml;\n",
              "          element.appendChild(docLink);\n",
              "        }\n",
              "      </script>\n",
              "    </div>\n",
              "  </div>\n",
              "  "
            ],
            "text/plain": [
              "                pickup              dropoff  ...  pickup_borough  dropoff_borough\n",
              "0  2019-03-23 20:21:09  2019-03-23 20:27:24  ...       Manhattan        Manhattan\n",
              "\n",
              "[1 rows x 14 columns]"
            ]
          },
          "metadata": {},
          "execution_count": 2
        }
      ]
    },
    {
      "cell_type": "markdown",
      "source": [
        "1. Suppose we want to use the variables distance and passengers to predict total which\n",
        "represents the total fare."
      ],
      "metadata": {
        "id": "KUJH6BNs5lRk"
      }
    },
    {
      "cell_type": "markdown",
      "source": [
        "(a) Use linear regression to create a model prediction total from distance and passengers.\n",
        "Report the R2."
      ],
      "metadata": {
        "id": "ZGvriYv65o7_"
      }
    },
    {
      "cell_type": "code",
      "source": [
        "model = ols(formula = 'total ~ distance + passengers', data=df_taxis)\n",
        "res1 = model.fit()\n",
        "print(f'This model has an R^2 of {res1.rsquared}')"
      ],
      "metadata": {
        "colab": {
          "base_uri": "https://localhost:8080/"
        },
        "id": "Kkd3iwGG5ma2",
        "outputId": "9cee0934-0827-4785-b866-a75faa4d4e9e"
      },
      "execution_count": 3,
      "outputs": [
        {
          "output_type": "stream",
          "name": "stdout",
          "text": [
            "This model has an R^2 of 0.8184911794925387\n"
          ]
        }
      ]
    },
    {
      "cell_type": "markdown",
      "source": [
        "(b) Incorporate another variable taxi color into the model and then report the R2."
      ],
      "metadata": {
        "id": "-m9H68cH5tS2"
      }
    },
    {
      "cell_type": "code",
      "source": [
        "model = ols(formula = 'total ~ distance + passengers + color', data=df_taxis)\n",
        "res2 = model.fit()\n",
        "print(f'This model has an R^2 of {res2.rsquared}')"
      ],
      "metadata": {
        "colab": {
          "base_uri": "https://localhost:8080/"
        },
        "id": "29d-HfON5wHB",
        "outputId": "354002fc-b192-4b68-b1ed-8f98d5f51023"
      },
      "execution_count": 4,
      "outputs": [
        {
          "output_type": "stream",
          "name": "stdout",
          "text": [
            "This model has an R^2 of 0.8286465295996958\n"
          ]
        }
      ]
    },
    {
      "cell_type": "markdown",
      "source": [
        "2. As in the fourth lecture, create a length of ride variable. Use the new feature you’ve\n",
        "engineered to further improve the model and report the R2."
      ],
      "metadata": {
        "id": "sK1dThs-5wm2"
      }
    },
    {
      "cell_type": "code",
      "source": [
        "pd.to_datetime(df_taxis['pickup'])\n",
        "\n",
        "# time delta\n",
        "pd.to_datetime(df_taxis['dropoff']) - pd.to_datetime(df_taxis['pickup'])\n",
        "\n",
        "delta = pd.to_datetime(df_taxis['dropoff']) - pd.to_datetime(df_taxis['pickup'])\n",
        "delta\n",
        "\n",
        "# length of trip-converting to minutes\n",
        "df_taxis['length_of_trip'] = delta / pd.Timedelta('60s')\n",
        "df_taxis.head(1)"
      ],
      "metadata": {
        "id": "KLkyk4xY99fc",
        "colab": {
          "base_uri": "https://localhost:8080/",
          "height": 179
        },
        "outputId": "286170ae-b8a9-4e66-f40d-7b2281fe04f1"
      },
      "execution_count": 16,
      "outputs": [
        {
          "output_type": "execute_result",
          "data": {
            "text/html": [
              "\n",
              "  <div id=\"df-224f2e97-5b42-4c3a-88f5-2505d5ac59e5\">\n",
              "    <div class=\"colab-df-container\">\n",
              "      <div>\n",
              "<style scoped>\n",
              "    .dataframe tbody tr th:only-of-type {\n",
              "        vertical-align: middle;\n",
              "    }\n",
              "\n",
              "    .dataframe tbody tr th {\n",
              "        vertical-align: top;\n",
              "    }\n",
              "\n",
              "    .dataframe thead th {\n",
              "        text-align: right;\n",
              "    }\n",
              "</style>\n",
              "<table border=\"1\" class=\"dataframe\">\n",
              "  <thead>\n",
              "    <tr style=\"text-align: right;\">\n",
              "      <th></th>\n",
              "      <th>pickup</th>\n",
              "      <th>dropoff</th>\n",
              "      <th>passengers</th>\n",
              "      <th>distance</th>\n",
              "      <th>fare</th>\n",
              "      <th>tip</th>\n",
              "      <th>tolls</th>\n",
              "      <th>total</th>\n",
              "      <th>color</th>\n",
              "      <th>payment</th>\n",
              "      <th>pickup_zone</th>\n",
              "      <th>dropoff_zone</th>\n",
              "      <th>pickup_borough</th>\n",
              "      <th>dropoff_borough</th>\n",
              "      <th>length_of_trip</th>\n",
              "    </tr>\n",
              "  </thead>\n",
              "  <tbody>\n",
              "    <tr>\n",
              "      <th>0</th>\n",
              "      <td>2019-03-23 20:21:09</td>\n",
              "      <td>2019-03-23 20:27:24</td>\n",
              "      <td>1</td>\n",
              "      <td>1.6</td>\n",
              "      <td>7.0</td>\n",
              "      <td>2.15</td>\n",
              "      <td>0.0</td>\n",
              "      <td>12.95</td>\n",
              "      <td>yellow</td>\n",
              "      <td>credit card</td>\n",
              "      <td>Lenox Hill West</td>\n",
              "      <td>UN/Turtle Bay South</td>\n",
              "      <td>Manhattan</td>\n",
              "      <td>Manhattan</td>\n",
              "      <td>6.25</td>\n",
              "    </tr>\n",
              "  </tbody>\n",
              "</table>\n",
              "</div>\n",
              "      <button class=\"colab-df-convert\" onclick=\"convertToInteractive('df-224f2e97-5b42-4c3a-88f5-2505d5ac59e5')\"\n",
              "              title=\"Convert this dataframe to an interactive table.\"\n",
              "              style=\"display:none;\">\n",
              "        \n",
              "  <svg xmlns=\"http://www.w3.org/2000/svg\" height=\"24px\"viewBox=\"0 0 24 24\"\n",
              "       width=\"24px\">\n",
              "    <path d=\"M0 0h24v24H0V0z\" fill=\"none\"/>\n",
              "    <path d=\"M18.56 5.44l.94 2.06.94-2.06 2.06-.94-2.06-.94-.94-2.06-.94 2.06-2.06.94zm-11 1L8.5 8.5l.94-2.06 2.06-.94-2.06-.94L8.5 2.5l-.94 2.06-2.06.94zm10 10l.94 2.06.94-2.06 2.06-.94-2.06-.94-.94-2.06-.94 2.06-2.06.94z\"/><path d=\"M17.41 7.96l-1.37-1.37c-.4-.4-.92-.59-1.43-.59-.52 0-1.04.2-1.43.59L10.3 9.45l-7.72 7.72c-.78.78-.78 2.05 0 2.83L4 21.41c.39.39.9.59 1.41.59.51 0 1.02-.2 1.41-.59l7.78-7.78 2.81-2.81c.8-.78.8-2.07 0-2.86zM5.41 20L4 18.59l7.72-7.72 1.47 1.35L5.41 20z\"/>\n",
              "  </svg>\n",
              "      </button>\n",
              "      \n",
              "  <style>\n",
              "    .colab-df-container {\n",
              "      display:flex;\n",
              "      flex-wrap:wrap;\n",
              "      gap: 12px;\n",
              "    }\n",
              "\n",
              "    .colab-df-convert {\n",
              "      background-color: #E8F0FE;\n",
              "      border: none;\n",
              "      border-radius: 50%;\n",
              "      cursor: pointer;\n",
              "      display: none;\n",
              "      fill: #1967D2;\n",
              "      height: 32px;\n",
              "      padding: 0 0 0 0;\n",
              "      width: 32px;\n",
              "    }\n",
              "\n",
              "    .colab-df-convert:hover {\n",
              "      background-color: #E2EBFA;\n",
              "      box-shadow: 0px 1px 2px rgba(60, 64, 67, 0.3), 0px 1px 3px 1px rgba(60, 64, 67, 0.15);\n",
              "      fill: #174EA6;\n",
              "    }\n",
              "\n",
              "    [theme=dark] .colab-df-convert {\n",
              "      background-color: #3B4455;\n",
              "      fill: #D2E3FC;\n",
              "    }\n",
              "\n",
              "    [theme=dark] .colab-df-convert:hover {\n",
              "      background-color: #434B5C;\n",
              "      box-shadow: 0px 1px 3px 1px rgba(0, 0, 0, 0.15);\n",
              "      filter: drop-shadow(0px 1px 2px rgba(0, 0, 0, 0.3));\n",
              "      fill: #FFFFFF;\n",
              "    }\n",
              "  </style>\n",
              "\n",
              "      <script>\n",
              "        const buttonEl =\n",
              "          document.querySelector('#df-224f2e97-5b42-4c3a-88f5-2505d5ac59e5 button.colab-df-convert');\n",
              "        buttonEl.style.display =\n",
              "          google.colab.kernel.accessAllowed ? 'block' : 'none';\n",
              "\n",
              "        async function convertToInteractive(key) {\n",
              "          const element = document.querySelector('#df-224f2e97-5b42-4c3a-88f5-2505d5ac59e5');\n",
              "          const dataTable =\n",
              "            await google.colab.kernel.invokeFunction('convertToInteractive',\n",
              "                                                     [key], {});\n",
              "          if (!dataTable) return;\n",
              "\n",
              "          const docLinkHtml = 'Like what you see? Visit the ' +\n",
              "            '<a target=\"_blank\" href=https://colab.research.google.com/notebooks/data_table.ipynb>data table notebook</a>'\n",
              "            + ' to learn more about interactive tables.';\n",
              "          element.innerHTML = '';\n",
              "          dataTable['output_type'] = 'display_data';\n",
              "          await google.colab.output.renderOutput(dataTable, element);\n",
              "          const docLink = document.createElement('div');\n",
              "          docLink.innerHTML = docLinkHtml;\n",
              "          element.appendChild(docLink);\n",
              "        }\n",
              "      </script>\n",
              "    </div>\n",
              "  </div>\n",
              "  "
            ],
            "text/plain": [
              "                pickup              dropoff  ...  dropoff_borough  length_of_trip\n",
              "0  2019-03-23 20:21:09  2019-03-23 20:27:24  ...        Manhattan            6.25\n",
              "\n",
              "[1 rows x 15 columns]"
            ]
          },
          "metadata": {},
          "execution_count": 16
        }
      ]
    },
    {
      "cell_type": "code",
      "source": [
        "model = ols(formula = 'total ~ distance + passengers + color + length_of_trip', data=df_taxis)\n",
        "res3 = model.fit()\n",
        "print(f'This model has an R^2 of {res3.rsquared}')"
      ],
      "metadata": {
        "colab": {
          "base_uri": "https://localhost:8080/"
        },
        "id": "rkhoQyS09AEx",
        "outputId": "55bb257e-48aa-47af-ed65-92b91f85a5a4"
      },
      "execution_count": 17,
      "outputs": [
        {
          "output_type": "stream",
          "name": "stdout",
          "text": [
            "This model has an R^2 of 0.8468228892910934\n"
          ]
        }
      ]
    },
    {
      "cell_type": "markdown",
      "source": [
        "3. Create a validation set using ten percent of the data, and use the complement to create\n",
        "a training set. (Make sure there is no overlap in observations between the validation and\n",
        "training set)."
      ],
      "metadata": {
        "id": "IT52jgQ1X1Kk"
      }
    },
    {
      "cell_type": "code",
      "source": [
        "from sklearn.model_selection import train_test_split\n",
        "\n",
        "# take random 10% of the taxis for testing\n",
        "train, test = train_test_split(df_taxis, test_size=0.1)"
      ],
      "metadata": {
        "id": "N2dcqPYgZBC3"
      },
      "execution_count": 18,
      "outputs": []
    },
    {
      "cell_type": "code",
      "source": [
        "# build model on training set\n",
        "model = ols(formula = 'total ~ distance + passengers + color + length_of_trip', data=train)\n",
        "res = model.fit()\n",
        "\n",
        "# predict using the model\n",
        "y_pred = res.predict(test)\n",
        "\n",
        "# score the model\n",
        "y = test['total']\n",
        "y_mean = train['total'].mean()  # use the mean of the training set\n",
        "\n",
        "TSS = sum((y - y_mean)**2)\n",
        "RSS = sum((y_pred - y)**2)\n",
        "print(f'This model has an R^2 on the test set of {(TSS - RSS) / TSS}')"
      ],
      "metadata": {
        "colab": {
          "base_uri": "https://localhost:8080/"
        },
        "id": "kecgSPgMX0eF",
        "outputId": "6007c9be-58c8-42ab-d4ec-cf0cc2f2c34d"
      },
      "execution_count": 20,
      "outputs": [
        {
          "output_type": "stream",
          "name": "stdout",
          "text": [
            "This model has an R^2 on the test set of 0.902091461462861\n"
          ]
        }
      ]
    },
    {
      "cell_type": "markdown",
      "source": [
        "4. Use this validation and the R2metric to decide whether adding length of ride to the\n",
        "variables from Q1 improves the model."
      ],
      "metadata": {
        "id": "ngTCAdgrZ9qk"
      }
    },
    {
      "cell_type": "markdown",
      "source": [
        "Introducing more variables to the model will increase $R^2$ because more values added to the sum of squares will decrease variance. This does not mean the model is improved, it just increases $R^2$, which is often a temptation to add variables to strengthen the $R^2$ metric."
      ],
      "metadata": {
        "id": "UoPftpe22LqI"
      }
    },
    {
      "cell_type": "markdown",
      "source": [
        "5. Engineer one new feature from the data and repeat Q4. (Hint: you can use powers,\n",
        "differences, ratios, products of other features!)"
      ],
      "metadata": {
        "id": "jQibnLGrWcWK"
      }
    },
    {
      "cell_type": "code",
      "source": [
        "df_taxis.head(5)"
      ],
      "metadata": {
        "id": "AH_m1XCLlkaP"
      },
      "execution_count": null,
      "outputs": []
    },
    {
      "cell_type": "code",
      "source": [
        "# new feature- set up dummy variable for payment type (cash/cc)\n",
        "dummy = pd.get_dummies(df_taxis['payment'])\n",
        "\n",
        "df2 = pd.concat([df_taxis, dummy], axis = 1)\n",
        "df2.head(1)"
      ],
      "metadata": {
        "id": "2on7brKl56Hr"
      },
      "execution_count": null,
      "outputs": []
    },
    {
      "cell_type": "code",
      "source": [
        "from sklearn.model_selection import train_test_split\n",
        "\n",
        "# take random 10% of the taxis for testing\n",
        "train, test = train_test_split(df2, test_size=0.1)"
      ],
      "metadata": {
        "id": "01llFuYWdEvT"
      },
      "execution_count": 27,
      "outputs": []
    },
    {
      "cell_type": "code",
      "source": [
        "# build model on training set\n",
        "model = ols(formula = 'total ~ distance + passengers + color + cash', data=train)\n",
        "res = model.fit()\n",
        "\n",
        "# predict using the model\n",
        "y_pred = res.predict(test)\n",
        "\n",
        "# score the model\n",
        "y = test['total']\n",
        "y_mean = train['total'].mean()  # use the mean of the training set\n",
        "\n",
        "TSS = sum((y - y_mean)**2)\n",
        "RSS = sum((y_pred - y)**2)\n",
        "print(f'This model has an R^2 on the test set of {(TSS - RSS) / TSS}')"
      ],
      "metadata": {
        "colab": {
          "base_uri": "https://localhost:8080/"
        },
        "id": "ozhRn7M8c0Os",
        "outputId": "7bcc48fc-354d-4f70-9e7a-df75a46702c8"
      },
      "execution_count": 28,
      "outputs": [
        {
          "output_type": "stream",
          "name": "stdout",
          "text": [
            "This model has an R^2 on the test set of 0.8352464687988639\n"
          ]
        }
      ]
    },
    {
      "cell_type": "markdown",
      "source": [
        "This feature of adding a dummy variable to determine if the rider payed with cash or not, did increase the value of $R^2$. This does not mean it added to the overall model, it simply increased $R^2$ since we added a new numeric variable to model which causes $R^2$ to go up."
      ],
      "metadata": {
        "id": "EygFLpBjkzwt"
      }
    },
    {
      "cell_type": "markdown",
      "source": [
        "6. Why shouldn’t you use fare or tip to predict total?"
      ],
      "metadata": {
        "id": "PYgNjdDAWdC2"
      }
    },
    {
      "cell_type": "markdown",
      "source": [
        "You should avoid using fare or tip to predict total because they are both directly related to the total. If the variables in the model are correlated to the dependant variable this will cause multicollinearity. Multicollinearity will cause leakage in the data set, and undermines the statistical significance of the variables. "
      ],
      "metadata": {
        "id": "9WSvRvGIMhs2"
      }
    }
  ]
}